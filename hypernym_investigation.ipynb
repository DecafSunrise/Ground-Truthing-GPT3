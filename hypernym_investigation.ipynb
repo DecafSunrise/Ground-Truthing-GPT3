{
  "cells": [
    {
      "cell_type": "code",
      "execution_count": null,
      "metadata": {
        "colab": {
          "base_uri": "https://localhost:8080/"
        },
        "id": "lVTL_K4tG67Y",
        "outputId": "ff122b96-58cc-4858-c768-a2bcce372402"
      },
      "outputs": [
        {
          "output_type": "stream",
          "name": "stdout",
          "text": [
            "Looking in indexes: https://pypi.org/simple, https://us-python.pkg.dev/colab-wheels/public/simple/\n",
            "Collecting wikidata\n",
            "  Downloading Wikidata-0.7.0-py3-none-any.whl (29 kB)\n",
            "Installing collected packages: wikidata\n",
            "Successfully installed wikidata-0.7.0\n"
          ]
        }
      ],
      "source": [
        "!pip install wikidata"
      ]
    },
    {
      "cell_type": "code",
      "execution_count": null,
      "metadata": {
        "id": "qcFTAWgVHK-e"
      },
      "outputs": [],
      "source": [
        "from wikidata.client import Client\n",
        "import pandas as pd\n",
        "import random\n",
        "import requests"
      ]
    },
    {
      "cell_type": "code",
      "source": [
        "client = Client()"
      ],
      "metadata": {
        "id": "r76kAE-h_jaw"
      },
      "execution_count": null,
      "outputs": []
    },
    {
      "cell_type": "markdown",
      "metadata": {
        "id": "_IFaTgS2iwhH"
      },
      "source": [
        "Hypernym investigation - based on P279"
      ]
    },
    {
      "cell_type": "code",
      "execution_count": null,
      "metadata": {
        "colab": {
          "base_uri": "https://localhost:8080/"
        },
        "id": "HW6FMLyDun_t",
        "outputId": "ad461403-13e8-42f8-a524-1ee438a05578"
      },
      "outputs": [
        {
          "name": "stdout",
          "output_type": "stream",
          "text": [
            "IU\n",
            "human\n"
          ]
        }
      ],
      "source": [
        "entity_id = 'Q20145'\n",
        "entity = client.get(entity_id, load=True)\n",
        "entity_lable = entity.label\n",
        "print(entity_lable)\n",
        "hypernym = entity.attributes['claims']['P31'][0]['mainsnak']['datavalue']['value']['id']\n",
        "hypernym_lable = client.get(hypernym, load=True).label\n",
        "print(hypernym_lable)"
      ]
    },
    {
      "cell_type": "code",
      "execution_count": null,
      "metadata": {
        "colab": {
          "base_uri": "https://localhost:8080/"
        },
        "id": "GctCx1Fuiv1_",
        "outputId": "19ea595f-db44-43fc-e334-0a90bd4fcb58"
      },
      "outputs": [
        {
          "output_type": "stream",
          "name": "stdout",
          "text": [
            "Q154954\n",
            "natural person\n",
            "legal person\n",
            "Q3778211\n"
          ]
        }
      ],
      "source": [
        "entity_id = hypernym\n",
        "entity = client.get(entity_id, load=True)\n",
        "entity_lable = entity.label\n",
        "print(entity_id)\n",
        "print(entity_lable)\n",
        "hypernym = entity.attributes['claims']['P279'][0]['mainsnak']['datavalue']['value']['id']\n",
        "hypernym_lable = client.get(hypernym, load=True).label\n",
        "print(hypernym_lable)\n",
        "print(hypernym)"
      ]
    },
    {
      "cell_type": "code",
      "execution_count": null,
      "metadata": {
        "colab": {
          "base_uri": "https://localhost:8080/"
        },
        "id": "xUyyT9ydiv7i",
        "outputId": "404fe42d-0f61-4f00-cdbb-4649427e3d10"
      },
      "outputs": [
        {
          "name": "stdout",
          "output_type": "stream",
          "text": [
            "Q154954\n",
            "natural person\n",
            "legal person\n",
            "Q3778211\n"
          ]
        }
      ],
      "source": [
        "entity_id = hypernym\n",
        "entity = client.get(entity_id, load=True)\n",
        "entity_lable = entity.label\n",
        "print(entity_id)\n",
        "print(entity_lable)\n",
        "hypernym = entity.attributes['claims']['P279'][0]['mainsnak']['datavalue']['value']['id']\n",
        "hypernym_lable = client.get(hypernym, load=True).label\n",
        "print(hypernym_lable)\n",
        "print(hypernym)"
      ]
    },
    {
      "cell_type": "code",
      "execution_count": null,
      "metadata": {
        "colab": {
          "base_uri": "https://localhost:8080/"
        },
        "id": "5Z1p_Ecgiv-b",
        "outputId": "b22bbd3d-bdb2-439b-f26f-bbde0ce8f557"
      },
      "outputs": [
        {
          "name": "stdout",
          "output_type": "stream",
          "text": [
            "Q3778211\n",
            "legal person\n",
            "agent\n",
            "Q24229398\n"
          ]
        }
      ],
      "source": [
        "entity_id = hypernym\n",
        "entity = client.get(entity_id, load=True)\n",
        "entity_lable = entity.label\n",
        "print(entity_id)\n",
        "print(entity_lable)\n",
        "hypernym = entity.attributes['claims']['P279'][0]['mainsnak']['datavalue']['value']['id']\n",
        "hypernym_lable = client.get(hypernym, load=True).label\n",
        "print(hypernym_lable)\n",
        "print(hypernym)"
      ]
    },
    {
      "cell_type": "code",
      "execution_count": null,
      "metadata": {
        "colab": {
          "base_uri": "https://localhost:8080/"
        },
        "id": "QfPzDZaQiwBX",
        "outputId": "6100c76b-3dec-4e97-d458-1f4fafe3184a"
      },
      "outputs": [
        {
          "name": "stdout",
          "output_type": "stream",
          "text": [
            "Q24229398\n",
            "agent\n",
            "subject\n",
            "Q830077\n"
          ]
        }
      ],
      "source": [
        "entity_id = hypernym\n",
        "entity = client.get(entity_id, load=True)\n",
        "entity_lable = entity.label\n",
        "print(entity_id)\n",
        "print(entity_lable)\n",
        "hypernym = entity.attributes['claims']['P279'][0]['mainsnak']['datavalue']['value']['id']\n",
        "hypernym_lable = client.get(hypernym, load=True).label\n",
        "print(hypernym_lable)\n",
        "print(hypernym)"
      ]
    },
    {
      "cell_type": "code",
      "execution_count": null,
      "metadata": {
        "colab": {
          "base_uri": "https://localhost:8080/"
        },
        "id": "2tYIU_fliwEN",
        "outputId": "744ac7c9-defa-449a-b84a-d9625769e733"
      },
      "outputs": [
        {
          "name": "stdout",
          "output_type": "stream",
          "text": [
            "Q830077\n",
            "subject\n",
            "continuant\n",
            "Q103940464\n"
          ]
        }
      ],
      "source": [
        "entity_id = hypernym\n",
        "entity = client.get(entity_id, load=True)\n",
        "entity_lable = entity.label\n",
        "print(entity_id)\n",
        "print(entity_lable)\n",
        "hypernym = entity.attributes['claims']['P279'][0]['mainsnak']['datavalue']['value']['id']\n",
        "hypernym_lable = client.get(hypernym, load=True).label\n",
        "print(hypernym_lable)\n",
        "print(hypernym)"
      ]
    },
    {
      "cell_type": "code",
      "execution_count": null,
      "metadata": {
        "colab": {
          "base_uri": "https://localhost:8080/"
        },
        "id": "89KnDdmxiwG8",
        "outputId": "56736485-d908-4f66-c86a-140f6575d354"
      },
      "outputs": [
        {
          "name": "stdout",
          "output_type": "stream",
          "text": [
            "Q103940464\n",
            "continuant\n",
            "individual entity\n",
            "Q23958946\n"
          ]
        }
      ],
      "source": [
        "entity_id = hypernym\n",
        "entity = client.get(entity_id, load=True)\n",
        "entity_lable = entity.label\n",
        "print(entity_id)\n",
        "print(entity_lable)\n",
        "hypernym = entity.attributes['claims']['P279'][0]['mainsnak']['datavalue']['value']['id']\n",
        "hypernym_lable = client.get(hypernym, load=True).label\n",
        "print(hypernym_lable)\n",
        "print(hypernym)\n"
      ]
    },
    {
      "cell_type": "code",
      "execution_count": null,
      "metadata": {
        "colab": {
          "base_uri": "https://localhost:8080/"
        },
        "id": "ScAd-_GFnFaE",
        "outputId": "2990df9f-c90d-4170-c41a-5250ed6bef15"
      },
      "outputs": [
        {
          "name": "stdout",
          "output_type": "stream",
          "text": [
            "Q23958946\n",
            "individual entity\n",
            "entity\n",
            "Q35120\n"
          ]
        }
      ],
      "source": [
        "entity_id = hypernym\n",
        "entity = client.get(entity_id, load=True)\n",
        "entity_lable = entity.label\n",
        "print(entity_id)\n",
        "print(entity_lable)\n",
        "hypernym = entity.attributes['claims']['P279'][0]['mainsnak']['datavalue']['value']['id']\n",
        "hypernym_lable = client.get(hypernym, load=True).label\n",
        "print(hypernym_lable)\n",
        "print(hypernym)"
      ]
    },
    {
      "cell_type": "code",
      "execution_count": null,
      "metadata": {
        "id": "Mg4qd76fpNGz"
      },
      "outputs": [],
      "source": []
    }
  ],
  "metadata": {
    "colab": {
      "provenance": []
    },
    "kernelspec": {
      "display_name": "Python 3",
      "name": "python3"
    },
    "language_info": {
      "name": "python"
    }
  },
  "nbformat": 4,
  "nbformat_minor": 0
}