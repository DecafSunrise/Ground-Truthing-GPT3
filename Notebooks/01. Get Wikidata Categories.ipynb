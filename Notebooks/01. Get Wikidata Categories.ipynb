{
 "cells": [
  {
   "cell_type": "markdown",
   "metadata": {},
   "source": [
    "# Retrieve sample categories from Wikidata"
   ]
  },
  {
   "cell_type": "markdown",
   "metadata": {},
   "source": [
    "### Imports"
   ]
  },
  {
   "cell_type": "code",
   "execution_count": null,
   "metadata": {
    "id": "qcFTAWgVHK-e"
   },
   "outputs": [],
   "source": [
    "import pandas as pd\n",
    "import random\n",
    "import requests\n",
    "import time"
   ]
  },
  {
   "cell_type": "markdown",
   "metadata": {},
   "source": [
    "### Define Functions"
   ]
  },
  {
   "cell_type": "code",
   "execution_count": null,
   "metadata": {
    "id": "AtnXpC60_c9T"
   },
   "outputs": [],
   "source": [
    "# function which generates 500 random Qids for wikidata and pulls their two types of hypernym relationships\n",
    "\n",
    "def batchQuery():\n",
    "    ids = list()\n",
    "    ids_str = \"\"\n",
    "\n",
    "    for i in range(500):\n",
    "        # Grab random Wikidata item\n",
    "        random_id = random.randrange(10000000)\n",
    "        ids.append(random_id)\n",
    "        ids_str = ids_str + ' wd:Q'+ str(random_id)\n",
    "\n",
    "    sparql_query = \"\"\"\n",
    "\n",
    "                  SELECT ?item ?itemLabel ?class ?classLabel ?subclass ?subclassLabel WHERE {\n",
    "                    VALUES ?item { \"\"\" + ids_str + \"\"\" }\n",
    "                    OPTIONAL {\n",
    "                      ?item wdt:P31 ?class.\n",
    "                      }\n",
    "                    OPTIONAL {\n",
    "                      ?item wdt:P279 ?subclass.\n",
    "                      }\n",
    "                    SERVICE wikibase:label { bd:serviceParam wikibase:language \"[AUTO_LANGUAGE],en\". }\n",
    "                  }\n",
    "    \"\"\"\n",
    "    url = 'https://query.wikidata.org/sparql'\n",
    "\n",
    "    r = requests.get(url, params={'format': 'json', 'query': sparql_query})\n",
    "    data = r.json()\n",
    "\n",
    "    return data"
   ]
  },
  {
   "cell_type": "markdown",
   "metadata": {},
   "source": [
    "### Run batchQuery multiple times to build up sample of entities"
   ]
  },
  {
   "cell_type": "code",
   "execution_count": null,
   "metadata": {
    "colab": {
     "base_uri": "https://localhost:8080/"
    },
    "id": "0sVO9rzYBW_X",
    "outputId": "c6d71515-d6cc-44a6-dfd4-d803d6ba3ccf"
   },
   "outputs": [],
   "source": [
    "%%time\n",
    "\n",
    "batch = batchQuery()\n",
    "sample_df = pd.json_normalize(batch['results']['bindings'])\n",
    "\n",
    "for i in range(9):\n",
    "    print(i)\n",
    "    batch = batchQuery()\n",
    "    batch_df = pd.json_normalize(batch['results']['bindings'])\n",
    "    sample_df = pd.concat([sample_df, batch_df], axis=0)"
   ]
  },
  {
   "cell_type": "markdown",
   "metadata": {},
   "source": [
    "### Examine outputs"
   ]
  },
  {
   "cell_type": "code",
   "execution_count": null,
   "metadata": {
    "colab": {
     "base_uri": "https://localhost:8080/",
     "height": 288
    },
    "id": "5gjRW0VoG1JM",
    "outputId": "a55e31f7-dc53-4d11-c350-c323f10f49e8"
   },
   "outputs": [
    {
     "data": {
      "text/html": [
       "\n",
       "  <div id=\"df-a8b61ec4-83b3-411d-8111-d7fff406d9a5\">\n",
       "    <div class=\"colab-df-container\">\n",
       "      <div>\n",
       "<style scoped>\n",
       "    .dataframe tbody tr th:only-of-type {\n",
       "        vertical-align: middle;\n",
       "    }\n",
       "\n",
       "    .dataframe tbody tr th {\n",
       "        vertical-align: top;\n",
       "    }\n",
       "\n",
       "    .dataframe thead th {\n",
       "        text-align: right;\n",
       "    }\n",
       "</style>\n",
       "<table border=\"1\" class=\"dataframe\">\n",
       "  <thead>\n",
       "    <tr style=\"text-align: right;\">\n",
       "      <th></th>\n",
       "      <th>item.type</th>\n",
       "      <th>item.value</th>\n",
       "      <th>class.type</th>\n",
       "      <th>class.value</th>\n",
       "      <th>itemLabel.xml:lang</th>\n",
       "      <th>itemLabel.type</th>\n",
       "      <th>itemLabel.value</th>\n",
       "      <th>classLabel.xml:lang</th>\n",
       "      <th>classLabel.type</th>\n",
       "      <th>classLabel.value</th>\n",
       "      <th>subclass.type</th>\n",
       "      <th>subclass.value</th>\n",
       "      <th>subclassLabel.xml:lang</th>\n",
       "      <th>subclassLabel.type</th>\n",
       "      <th>subclassLabel.value</th>\n",
       "    </tr>\n",
       "  </thead>\n",
       "  <tbody>\n",
       "    <tr>\n",
       "      <th>0</th>\n",
       "      <td>uri</td>\n",
       "      <td>http://www.wikidata.org/entity/Q4700</td>\n",
       "      <td>uri</td>\n",
       "      <td>http://www.wikidata.org/entity/Q5</td>\n",
       "      <td>en</td>\n",
       "      <td>literal</td>\n",
       "      <td>Claude Debussy</td>\n",
       "      <td>en</td>\n",
       "      <td>literal</td>\n",
       "      <td>human</td>\n",
       "      <td>NaN</td>\n",
       "      <td>NaN</td>\n",
       "      <td>NaN</td>\n",
       "      <td>NaN</td>\n",
       "      <td>NaN</td>\n",
       "    </tr>\n",
       "    <tr>\n",
       "      <th>1</th>\n",
       "      <td>uri</td>\n",
       "      <td>http://www.wikidata.org/entity/Q11485</td>\n",
       "      <td>uri</td>\n",
       "      <td>http://www.wikidata.org/entity/Q5</td>\n",
       "      <td>en</td>\n",
       "      <td>literal</td>\n",
       "      <td>Jean-Claude Killy</td>\n",
       "      <td>en</td>\n",
       "      <td>literal</td>\n",
       "      <td>human</td>\n",
       "      <td>NaN</td>\n",
       "      <td>NaN</td>\n",
       "      <td>NaN</td>\n",
       "      <td>NaN</td>\n",
       "      <td>NaN</td>\n",
       "    </tr>\n",
       "    <tr>\n",
       "      <th>2</th>\n",
       "      <td>uri</td>\n",
       "      <td>http://www.wikidata.org/entity/Q23508</td>\n",
       "      <td>uri</td>\n",
       "      <td>http://www.wikidata.org/entity/Q1302471</td>\n",
       "      <td>en</td>\n",
       "      <td>literal</td>\n",
       "      <td>jeroboam</td>\n",
       "      <td>en</td>\n",
       "      <td>literal</td>\n",
       "      <td>unit of volume</td>\n",
       "      <td>uri</td>\n",
       "      <td>http://www.wikidata.org/entity/Q23490</td>\n",
       "      <td>en</td>\n",
       "      <td>literal</td>\n",
       "      <td>wine bottle</td>\n",
       "    </tr>\n",
       "    <tr>\n",
       "      <th>3</th>\n",
       "      <td>uri</td>\n",
       "      <td>http://www.wikidata.org/entity/Q27989</td>\n",
       "      <td>uri</td>\n",
       "      <td>http://www.wikidata.org/entity/Q16521</td>\n",
       "      <td>en</td>\n",
       "      <td>literal</td>\n",
       "      <td>Campanula rotundifolia</td>\n",
       "      <td>en</td>\n",
       "      <td>literal</td>\n",
       "      <td>taxon</td>\n",
       "      <td>NaN</td>\n",
       "      <td>NaN</td>\n",
       "      <td>NaN</td>\n",
       "      <td>NaN</td>\n",
       "      <td>NaN</td>\n",
       "    </tr>\n",
       "    <tr>\n",
       "      <th>4</th>\n",
       "      <td>uri</td>\n",
       "      <td>http://www.wikidata.org/entity/Q42300</td>\n",
       "      <td>uri</td>\n",
       "      <td>http://www.wikidata.org/entity/Q747074</td>\n",
       "      <td>en</td>\n",
       "      <td>literal</td>\n",
       "      <td>Comazzo</td>\n",
       "      <td>en</td>\n",
       "      <td>literal</td>\n",
       "      <td>comune of Italy</td>\n",
       "      <td>NaN</td>\n",
       "      <td>NaN</td>\n",
       "      <td>NaN</td>\n",
       "      <td>NaN</td>\n",
       "      <td>NaN</td>\n",
       "    </tr>\n",
       "  </tbody>\n",
       "</table>\n",
       "</div>\n",
       "      <button class=\"colab-df-convert\" onclick=\"convertToInteractive('df-a8b61ec4-83b3-411d-8111-d7fff406d9a5')\"\n",
       "              title=\"Convert this dataframe to an interactive table.\"\n",
       "              style=\"display:none;\">\n",
       "        \n",
       "  <svg xmlns=\"http://www.w3.org/2000/svg\" height=\"24px\"viewBox=\"0 0 24 24\"\n",
       "       width=\"24px\">\n",
       "    <path d=\"M0 0h24v24H0V0z\" fill=\"none\"/>\n",
       "    <path d=\"M18.56 5.44l.94 2.06.94-2.06 2.06-.94-2.06-.94-.94-2.06-.94 2.06-2.06.94zm-11 1L8.5 8.5l.94-2.06 2.06-.94-2.06-.94L8.5 2.5l-.94 2.06-2.06.94zm10 10l.94 2.06.94-2.06 2.06-.94-2.06-.94-.94-2.06-.94 2.06-2.06.94z\"/><path d=\"M17.41 7.96l-1.37-1.37c-.4-.4-.92-.59-1.43-.59-.52 0-1.04.2-1.43.59L10.3 9.45l-7.72 7.72c-.78.78-.78 2.05 0 2.83L4 21.41c.39.39.9.59 1.41.59.51 0 1.02-.2 1.41-.59l7.78-7.78 2.81-2.81c.8-.78.8-2.07 0-2.86zM5.41 20L4 18.59l7.72-7.72 1.47 1.35L5.41 20z\"/>\n",
       "  </svg>\n",
       "      </button>\n",
       "      \n",
       "  <style>\n",
       "    .colab-df-container {\n",
       "      display:flex;\n",
       "      flex-wrap:wrap;\n",
       "      gap: 12px;\n",
       "    }\n",
       "\n",
       "    .colab-df-convert {\n",
       "      background-color: #E8F0FE;\n",
       "      border: none;\n",
       "      border-radius: 50%;\n",
       "      cursor: pointer;\n",
       "      display: none;\n",
       "      fill: #1967D2;\n",
       "      height: 32px;\n",
       "      padding: 0 0 0 0;\n",
       "      width: 32px;\n",
       "    }\n",
       "\n",
       "    .colab-df-convert:hover {\n",
       "      background-color: #E2EBFA;\n",
       "      box-shadow: 0px 1px 2px rgba(60, 64, 67, 0.3), 0px 1px 3px 1px rgba(60, 64, 67, 0.15);\n",
       "      fill: #174EA6;\n",
       "    }\n",
       "\n",
       "    [theme=dark] .colab-df-convert {\n",
       "      background-color: #3B4455;\n",
       "      fill: #D2E3FC;\n",
       "    }\n",
       "\n",
       "    [theme=dark] .colab-df-convert:hover {\n",
       "      background-color: #434B5C;\n",
       "      box-shadow: 0px 1px 3px 1px rgba(0, 0, 0, 0.15);\n",
       "      filter: drop-shadow(0px 1px 2px rgba(0, 0, 0, 0.3));\n",
       "      fill: #FFFFFF;\n",
       "    }\n",
       "  </style>\n",
       "\n",
       "      <script>\n",
       "        const buttonEl =\n",
       "          document.querySelector('#df-a8b61ec4-83b3-411d-8111-d7fff406d9a5 button.colab-df-convert');\n",
       "        buttonEl.style.display =\n",
       "          google.colab.kernel.accessAllowed ? 'block' : 'none';\n",
       "\n",
       "        async function convertToInteractive(key) {\n",
       "          const element = document.querySelector('#df-a8b61ec4-83b3-411d-8111-d7fff406d9a5');\n",
       "          const dataTable =\n",
       "            await google.colab.kernel.invokeFunction('convertToInteractive',\n",
       "                                                     [key], {});\n",
       "          if (!dataTable) return;\n",
       "\n",
       "          const docLinkHtml = 'Like what you see? Visit the ' +\n",
       "            '<a target=\"_blank\" href=https://colab.research.google.com/notebooks/data_table.ipynb>data table notebook</a>'\n",
       "            + ' to learn more about interactive tables.';\n",
       "          element.innerHTML = '';\n",
       "          dataTable['output_type'] = 'display_data';\n",
       "          await google.colab.output.renderOutput(dataTable, element);\n",
       "          const docLink = document.createElement('div');\n",
       "          docLink.innerHTML = docLinkHtml;\n",
       "          element.appendChild(docLink);\n",
       "        }\n",
       "      </script>\n",
       "    </div>\n",
       "  </div>\n",
       "  "
      ],
      "text/plain": [
       "  item.type                             item.value class.type  \\\n",
       "0       uri   http://www.wikidata.org/entity/Q4700        uri   \n",
       "1       uri  http://www.wikidata.org/entity/Q11485        uri   \n",
       "2       uri  http://www.wikidata.org/entity/Q23508        uri   \n",
       "3       uri  http://www.wikidata.org/entity/Q27989        uri   \n",
       "4       uri  http://www.wikidata.org/entity/Q42300        uri   \n",
       "\n",
       "                               class.value itemLabel.xml:lang itemLabel.type  \\\n",
       "0        http://www.wikidata.org/entity/Q5                 en        literal   \n",
       "1        http://www.wikidata.org/entity/Q5                 en        literal   \n",
       "2  http://www.wikidata.org/entity/Q1302471                 en        literal   \n",
       "3    http://www.wikidata.org/entity/Q16521                 en        literal   \n",
       "4   http://www.wikidata.org/entity/Q747074                 en        literal   \n",
       "\n",
       "          itemLabel.value classLabel.xml:lang classLabel.type  \\\n",
       "0          Claude Debussy                  en         literal   \n",
       "1       Jean-Claude Killy                  en         literal   \n",
       "2                jeroboam                  en         literal   \n",
       "3  Campanula rotundifolia                  en         literal   \n",
       "4                 Comazzo                  en         literal   \n",
       "\n",
       "  classLabel.value subclass.type                         subclass.value  \\\n",
       "0            human           NaN                                    NaN   \n",
       "1            human           NaN                                    NaN   \n",
       "2   unit of volume           uri  http://www.wikidata.org/entity/Q23490   \n",
       "3            taxon           NaN                                    NaN   \n",
       "4  comune of Italy           NaN                                    NaN   \n",
       "\n",
       "  subclassLabel.xml:lang subclassLabel.type subclassLabel.value  \n",
       "0                    NaN                NaN                 NaN  \n",
       "1                    NaN                NaN                 NaN  \n",
       "2                     en            literal         wine bottle  \n",
       "3                    NaN                NaN                 NaN  \n",
       "4                    NaN                NaN                 NaN  "
      ]
     },
     "execution_count": 5,
     "metadata": {},
     "output_type": "execute_result"
    }
   ],
   "source": [
    "sample_df.head()"
   ]
  },
  {
   "cell_type": "code",
   "execution_count": null,
   "metadata": {
    "colab": {
     "base_uri": "https://localhost:8080/"
    },
    "id": "N2KcO7G1EkkE",
    "outputId": "68fb59b5-ed26-40ff-ce57-9ff5021836f0"
   },
   "outputs": [],
   "source": [
    "# run batchQuery many more times to scale sample of entities. Add pause to avoid wikidata's rate limits\n",
    "\n",
    "%%time\n",
    "\n",
    "limit = 200\n",
    "\n",
    "for i in range(limit):\n",
    "\n",
    "    print(i)\n",
    "    batch = batchQuery()\n",
    "    batch_df = pd.json_normalize(batch['results']['bindings'])\n",
    "    sample_df = pd.concat([sample_df, batch_df], axis=0)\n",
    "\n",
    "    if (i+1) % 10 == 0 and i != (limit-1):\n",
    "        print(i)\n",
    "        time.sleep(10)"
   ]
  },
  {
   "cell_type": "code",
   "execution_count": null,
   "metadata": {
    "colab": {
     "base_uri": "https://localhost:8080/"
    },
    "id": "iSGWJpcMBfTu",
    "outputId": "27c25b9d-1273-4cf6-a9df-d7964a0a58dd"
   },
   "outputs": [
    {
     "data": {
      "text/plain": [
       "(218122, 15)"
      ]
     },
     "execution_count": 18,
     "metadata": {},
     "output_type": "execute_result"
    }
   ],
   "source": [
    "# Examine scale of output\n",
    "sample_df.shape"
   ]
  },
  {
   "cell_type": "markdown",
   "metadata": {},
   "source": [
    "### Clean resultant dataset"
   ]
  },
  {
   "cell_type": "code",
   "execution_count": null,
   "metadata": {
    "id": "67NDAFkxBfWu"
   },
   "outputs": [],
   "source": [
    "# remove any entities which are a subclass of another class\n",
    "\n",
    "can_df = sample_df[sample_df['subclass.value'].isna()]"
   ]
  },
  {
   "cell_type": "code",
   "execution_count": null,
   "metadata": {
    "id": "1vjdGB70CPn7"
   },
   "outputs": [],
   "source": [
    "# remove any entities which do not have a class\n",
    "\n",
    "can_df = can_df[~can_df['class.value'].isna()]"
   ]
  },
  {
   "cell_type": "code",
   "execution_count": null,
   "metadata": {
    "id": "J8v1rICOCPrO"
   },
   "outputs": [],
   "source": [
    "# remove any entities which are not recorded in English\n",
    "\n",
    "can_df = can_df[can_df['itemLabel.xml:lang']=='en']"
   ]
  },
  {
   "cell_type": "code",
   "execution_count": null,
   "metadata": {
    "colab": {
     "base_uri": "https://localhost:8080/"
    },
    "id": "D8oGNt2EDlEU",
    "outputId": "5db24f91-cfbe-48e2-dffe-c3725cc63724"
   },
   "outputs": [
    {
     "data": {
      "text/plain": [
       "(150909, 15)"
      ]
     },
     "execution_count": 22,
     "metadata": {},
     "output_type": "execute_result"
    }
   ],
   "source": [
    "# this is our final sample set\n",
    "\n",
    "can_df.shape"
   ]
  },
  {
   "cell_type": "code",
   "execution_count": null,
   "metadata": {
    "id": "EGrys9qJCPt8"
   },
   "outputs": [],
   "source": [
    "# sort top classes of entities by number of instances sampled per class\n",
    "\n",
    "pt = can_df.pivot_table(values='classLabel.type', columns='classLabel.value', aggfunc='count')\n",
    "pt = pt.transpose()\n",
    "pt_sorted = pt.sort_values(by='classLabel.type', ascending=False)\n",
    "pt_sorted.reset_index(drop=False, inplace=True)"
   ]
  },
  {
   "cell_type": "code",
   "execution_count": null,
   "metadata": {
    "colab": {
     "base_uri": "https://localhost:8080/",
     "height": 1000
    },
    "id": "ceHaljxdD9IE",
    "outputId": "eae4835a-60c9-4975-ca34-f87bb88eedb7"
   },
   "outputs": [],
   "source": [
    "# check for top 50 classes by number of instances\n",
    "\n",
    "pt_sorted.head(50)"
   ]
  },
  {
   "cell_type": "markdown",
   "metadata": {},
   "source": [
    "### Save results"
   ]
  },
  {
   "cell_type": "code",
   "execution_count": null,
   "metadata": {
    "id": "ra5dW0sKBfZH"
   },
   "outputs": [],
   "source": [
    "pt_sorted.to_csv('../Data/top_first_tier_cats.csv')\n",
    "can_df.to_csv('../Data/wikidata_sample_df.csv')"
   ]
  }
 ],
 "metadata": {
  "colab": {
   "provenance": []
  },
  "kernelspec": {
   "display_name": "Python 3",
   "language": "python",
   "name": "python3"
  },
  "language_info": {
   "codemirror_mode": {
    "name": "ipython",
    "version": 3
   },
   "file_extension": ".py",
   "mimetype": "text/x-python",
   "name": "python",
   "nbconvert_exporter": "python",
   "pygments_lexer": "ipython3",
   "version": "3.8.11"
  }
 },
 "nbformat": 4,
 "nbformat_minor": 1
}
