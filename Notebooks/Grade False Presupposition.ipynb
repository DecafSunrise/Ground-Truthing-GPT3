{
 "cells": [
  {
   "cell_type": "code",
   "execution_count": 1,
   "id": "ac1ba1fb",
   "metadata": {},
   "outputs": [],
   "source": [
    "import pandas as pd"
   ]
  },
  {
   "cell_type": "code",
   "execution_count": null,
   "id": "e296b286",
   "metadata": {},
   "outputs": [],
   "source": [
    "import nltk\n",
    "\n",
    "from nltk.tokenize import sent_tokenize"
   ]
  },
  {
   "cell_type": "code",
   "execution_count": 2,
   "id": "d96c0106",
   "metadata": {},
   "outputs": [],
   "source": [
    "df = pd.read_csv(\"false presupposition.csv\")"
   ]
  },
  {
   "cell_type": "code",
   "execution_count": null,
   "id": "4a20b97f",
   "metadata": {},
   "outputs": [],
   "source": [
    "import nltk\n",
    "\n",
    "from nltk.tokenize import sent_tokenize"
   ]
  },
  {
   "cell_type": "code",
   "execution_count": 7,
   "id": "36d8f768",
   "metadata": {},
   "outputs": [],
   "source": [
    "df['sents'] = df['false presupposition response'].apply(sent_tokenize)"
   ]
  },
  {
   "cell_type": "code",
   "execution_count": 10,
   "id": "147149e7",
   "metadata": {},
   "outputs": [],
   "source": [
    "df['len sents'] = df['sents'].str.len()"
   ]
  },
  {
   "cell_type": "code",
   "execution_count": 12,
   "id": "b021b1c8",
   "metadata": {},
   "outputs": [
    {
     "data": {
      "text/plain": [
       "2    2897\n",
       "1    1424\n",
       "3     286\n",
       "4      19\n",
       "5       2\n",
       "Name: len sents, dtype: int64"
      ]
     },
     "execution_count": 12,
     "metadata": {},
     "output_type": "execute_result"
    }
   ],
   "source": [
    "df['len sents'].value_counts()"
   ]
  },
  {
   "cell_type": "code",
   "execution_count": 13,
   "id": "5a428504",
   "metadata": {},
   "outputs": [
    {
     "data": {
      "text/plain": [
       "True"
      ]
     },
     "execution_count": 13,
     "metadata": {},
     "output_type": "execute_result"
    }
   ],
   "source": [
    "\"sin\" in \"osin\""
   ]
  },
  {
   "cell_type": "code",
   "execution_count": 14,
   "id": "9b6876e7",
   "metadata": {},
   "outputs": [],
   "source": [
    "def contains_superset(list_of_text, superset):\n",
    "    return [superset in x for x in list_of_text]"
   ]
  },
  {
   "cell_type": "code",
   "execution_count": 21,
   "id": "89bbf5e7",
   "metadata": {},
   "outputs": [],
   "source": [
    "def filter_to_superset_sents(list_of_text, superset):\n",
    "    return [x for x in list_of_text if superset.lower() in x.lower()]"
   ]
  },
  {
   "cell_type": "code",
   "execution_count": 22,
   "id": "d576447a",
   "metadata": {},
   "outputs": [
    {
     "data": {
      "text/plain": [
       "['Poop sock banana']"
      ]
     },
     "execution_count": 22,
     "metadata": {},
     "output_type": "execute_result"
    }
   ],
   "source": [
    "filter_to_superset_sents(['Poop sock banana', 'Elephant cock hoochie'], 'poop')"
   ]
  },
  {
   "cell_type": "code",
   "execution_count": null,
   "id": "d23944f7",
   "metadata": {},
   "outputs": [],
   "source": []
  },
  {
   "cell_type": "code",
   "execution_count": 15,
   "id": "69003340",
   "metadata": {},
   "outputs": [
    {
     "data": {
      "text/html": [
       "<div>\n",
       "<style scoped>\n",
       "    .dataframe tbody tr th:only-of-type {\n",
       "        vertical-align: middle;\n",
       "    }\n",
       "\n",
       "    .dataframe tbody tr th {\n",
       "        vertical-align: top;\n",
       "    }\n",
       "\n",
       "    .dataframe thead th {\n",
       "        text-align: right;\n",
       "    }\n",
       "</style>\n",
       "<table border=\"1\" class=\"dataframe\">\n",
       "  <thead>\n",
       "    <tr style=\"text-align: right;\">\n",
       "      <th></th>\n",
       "      <th>item.value</th>\n",
       "      <th>class.value</th>\n",
       "      <th>itemLabel.value</th>\n",
       "      <th>classLabel.xml:lang</th>\n",
       "      <th>classLabel.value</th>\n",
       "      <th>set subset question</th>\n",
       "      <th>set subset response</th>\n",
       "      <th>True or False</th>\n",
       "      <th>confidence</th>\n",
       "      <th>false presupposition response</th>\n",
       "      <th>sents</th>\n",
       "      <th>len sents</th>\n",
       "    </tr>\n",
       "  </thead>\n",
       "  <tbody>\n",
       "    <tr>\n",
       "      <th>0</th>\n",
       "      <td>http://www.wikidata.org/entity/Q7993487</td>\n",
       "      <td>http://www.wikidata.org/entity/Q482994</td>\n",
       "      <td>Where the Wild Things Are</td>\n",
       "      <td>en</td>\n",
       "      <td>album</td>\n",
       "      <td>Answer True or False, then explain your ration...</td>\n",
       "      <td>False. Where the Wild Things Are is a children...</td>\n",
       "      <td>False</td>\n",
       "      <td>100</td>\n",
       "      <td>Where the Wild Things Are is a children's pict...</td>\n",
       "      <td>[Where the Wild Things Are is a children's pic...</td>\n",
       "      <td>2</td>\n",
       "    </tr>\n",
       "  </tbody>\n",
       "</table>\n",
       "</div>"
      ],
      "text/plain": [
       "                                item.value  \\\n",
       "0  http://www.wikidata.org/entity/Q7993487   \n",
       "\n",
       "                              class.value            itemLabel.value  \\\n",
       "0  http://www.wikidata.org/entity/Q482994  Where the Wild Things Are   \n",
       "\n",
       "  classLabel.xml:lang classLabel.value  \\\n",
       "0                  en            album   \n",
       "\n",
       "                                 set subset question  \\\n",
       "0  Answer True or False, then explain your ration...   \n",
       "\n",
       "                                 set subset response  True or False  \\\n",
       "0  False. Where the Wild Things Are is a children...          False   \n",
       "\n",
       "   confidence                      false presupposition response  \\\n",
       "0         100  Where the Wild Things Are is a children's pict...   \n",
       "\n",
       "                                               sents  len sents  \n",
       "0  [Where the Wild Things Are is a children's pic...          2  "
      ]
     },
     "execution_count": 15,
     "metadata": {},
     "output_type": "execute_result"
    }
   ],
   "source": [
    "df.head(1)"
   ]
  },
  {
   "cell_type": "code",
   "execution_count": 17,
   "id": "f92947b4",
   "metadata": {},
   "outputs": [],
   "source": [
    "df['sent_contains_superset'] = df.apply(lambda x: contains_superset(x['sents'], x['classLabel.value']), axis=1)\n"
   ]
  },
  {
   "cell_type": "code",
   "execution_count": 23,
   "id": "4cedd707",
   "metadata": {},
   "outputs": [],
   "source": [
    "df['sents_containing_superset'] = df.apply(lambda x: filter_to_superset_sents(x['sents'], x['classLabel.value']), axis=1)\n"
   ]
  },
  {
   "cell_type": "code",
   "execution_count": 26,
   "id": "f24f54a4",
   "metadata": {},
   "outputs": [
    {
     "data": {
      "text/plain": [
       "1    4042\n",
       "2     554\n",
       "3      16\n",
       "0      16\n",
       "Name: sents_containing_superset, dtype: int64"
      ]
     },
     "execution_count": 26,
     "metadata": {},
     "output_type": "execute_result"
    }
   ],
   "source": [
    "df['sents_containing_superset'].str.len().value_counts()"
   ]
  },
  {
   "cell_type": "code",
   "execution_count": 31,
   "id": "43d3804f",
   "metadata": {},
   "outputs": [],
   "source": [
    "pd.set_option('max_colwidth', 500)"
   ]
  },
  {
   "cell_type": "code",
   "execution_count": 32,
   "id": "a7cb6fe3",
   "metadata": {},
   "outputs": [
    {
     "data": {
      "text/plain": [
       "0                                                                                                                                                                                                   [It is not an album.]\n",
       "1                                                                  [Vanilla Fudge is a band, not an album., The band released five studio albums between 1967 and 1970, as well as several live albums and compilations.]\n",
       "2                 [Songs in the Key of Beotch is not an album because it is not an official release., It is a compilation of songs by various artists, including the Beastie Boys, that were released on various albums.]\n",
       "3                                                                                                                    [Gettin' That Guac is not an album because it is a single song released by the artist Lil Uzi Vert.]\n",
       "4                                        [Autograph is not an album because it is a single song by the band Shinedown., It was released as a single in 2003 and was later included on the band's 2004 album Us and Them.]\n",
       "                                                                                                              ...                                                                                                        \n",
       "4623                                        [Mochrum is not a village because it is a small hamlet located in the parish of Kirkmaiden, Dumfries and Galloway, Scotland., It is too small to be classified as a village.]\n",
       "4624                                                                                                                              [Ødis-Bramdrup is not a village because it is not an officially recognized settlement.]\n",
       "4625                              [Văleni is not a village because it is a commune, which is a larger administrative division than a village., A commune is typically made up of several villages and other settlements.]\n",
       "4626                                                                                                                 [Bandor-e Sofla is not a village because it is a neighborhood in the city of Bandar-e Anzali, Iran.]\n",
       "4627    [Groß Gaglow is not a village because it is a part of the town of Gaglow, which is located in the state of Brandenburg, Germany., Groß Gaglow is a district of Gaglow, and is not considered a separate village.]\n",
       "Name: sents_containing_superset, Length: 4628, dtype: object"
      ]
     },
     "execution_count": 32,
     "metadata": {},
     "output_type": "execute_result"
    }
   ],
   "source": [
    "df['sents_containing_superset']"
   ]
  },
  {
   "cell_type": "code",
   "execution_count": 35,
   "id": "e073f935",
   "metadata": {},
   "outputs": [
    {
     "data": {
      "text/plain": [
       "album                147\n",
       "human                114\n",
       "film                  71\n",
       "village               61\n",
       "river                 57\n",
       "business              35\n",
       "literary work         33\n",
       "mountain              20\n",
       "television series     10\n",
       "musical group          6\n",
       "Name: classLabel.value, dtype: int64"
      ]
     },
     "execution_count": 35,
     "metadata": {},
     "output_type": "execute_result"
    }
   ],
   "source": [
    "df[df['sents_containing_superset'].str.len()==2]['classLabel.value'].value_counts()"
   ]
  },
  {
   "cell_type": "raw",
   "id": "f6379268",
   "metadata": {},
   "source": [
    "df[df['sents_containing_superset'].str.len()==2]"
   ]
  },
  {
   "cell_type": "raw",
   "id": "23f4b4bc",
   "metadata": {},
   "source": [
    "df[df['sents_containing_superset'].str.len()==0]"
   ]
  },
  {
   "cell_type": "code",
   "execution_count": 109,
   "id": "ef0ac449",
   "metadata": {},
   "outputs": [],
   "source": [
    "mysample1 = df['sents_containing_superset'].sample(1)"
   ]
  },
  {
   "cell_type": "code",
   "execution_count": 110,
   "id": "c461c88b",
   "metadata": {},
   "outputs": [],
   "source": [
    "mysample1 =mysample1.reset_index(drop=True)[0][0]"
   ]
  },
  {
   "cell_type": "code",
   "execution_count": 111,
   "id": "2207a563",
   "metadata": {},
   "outputs": [
    {
     "data": {
      "text/plain": [
       "'Gnagno Philibert Fagnidi is not a human because it is a fictional character created by French author Marcel Aymé in his novel, The Man Who Walked Through Walls.'"
      ]
     },
     "execution_count": 111,
     "metadata": {},
     "output_type": "execute_result"
    }
   ],
   "source": [
    "mysample1"
   ]
  },
  {
   "cell_type": "code",
   "execution_count": null,
   "id": "cd6dbc85",
   "metadata": {},
   "outputs": [],
   "source": []
  },
  {
   "cell_type": "code",
   "execution_count": 106,
   "id": "18cc1c98",
   "metadata": {},
   "outputs": [],
   "source": [
    "mysample2 = df[df['classLabel.value']=='musical group']['sents_containing_superset'].sample(1)"
   ]
  },
  {
   "cell_type": "code",
   "execution_count": 107,
   "id": "f88b6ae0",
   "metadata": {},
   "outputs": [],
   "source": [
    "mysample2 =mysample2.reset_index(drop=True)[0][0]"
   ]
  },
  {
   "cell_type": "code",
   "execution_count": 108,
   "id": "a6bdcb3b",
   "metadata": {},
   "outputs": [
    {
     "data": {
      "text/plain": [
       "'Dead or Alive is not a musical group; it is a video game series developed by Team Ninja and published by Koei Tecmo.'"
      ]
     },
     "execution_count": 108,
     "metadata": {},
     "output_type": "execute_result"
    }
   ],
   "source": [
    "mysample2"
   ]
  },
  {
   "cell_type": "code",
   "execution_count": null,
   "id": "cf31859f",
   "metadata": {},
   "outputs": [],
   "source": []
  },
  {
   "cell_type": "code",
   "execution_count": 112,
   "id": "92c7868d",
   "metadata": {},
   "outputs": [],
   "source": [
    "mysample3 = df[df['classLabel.value']=='literary work']['sents_containing_superset'].sample(1)"
   ]
  },
  {
   "cell_type": "code",
   "execution_count": 113,
   "id": "684fd4c6",
   "metadata": {},
   "outputs": [],
   "source": [
    "mysample3 =mysample3.reset_index(drop=True)[0][0]"
   ]
  },
  {
   "cell_type": "code",
   "execution_count": 114,
   "id": "7b7bb673",
   "metadata": {},
   "outputs": [
    {
     "data": {
      "text/plain": [
       "'The Enemies of Jupiter is not a literary work because it is a comic book series.'"
      ]
     },
     "execution_count": 114,
     "metadata": {},
     "output_type": "execute_result"
    }
   ],
   "source": [
    "mysample3"
   ]
  },
  {
   "cell_type": "code",
   "execution_count": 116,
   "id": "48a2ca8c",
   "metadata": {},
   "outputs": [
    {
     "data": {
      "text/plain": [
       "7"
      ]
     },
     "execution_count": 116,
     "metadata": {},
     "output_type": "execute_result"
    }
   ],
   "source": [
    "word_tokenize(mysample3).index('literary')"
   ]
  },
  {
   "cell_type": "code",
   "execution_count": 65,
   "id": "45acd946",
   "metadata": {},
   "outputs": [
    {
     "data": {
      "text/plain": [
       "'Alexander Vasiliev is not a human because he is a fictional character from the novel War and Peace by Leo Tolstoy.'"
      ]
     },
     "execution_count": 65,
     "metadata": {},
     "output_type": "execute_result"
    }
   ],
   "source": [
    "mysample"
   ]
  },
  {
   "cell_type": "raw",
   "id": "7541e64a",
   "metadata": {},
   "source": [
    "df['sent_contains_superset'].value_counts()"
   ]
  },
  {
   "cell_type": "code",
   "execution_count": 37,
   "id": "df625d1b",
   "metadata": {},
   "outputs": [],
   "source": [
    "from nltk import word_tokenize"
   ]
  },
  {
   "cell_type": "code",
   "execution_count": 40,
   "id": "55ecd888",
   "metadata": {},
   "outputs": [],
   "source": [
    "mysent = \"Vanilla Fudge is a band, not an album.\""
   ]
  },
  {
   "cell_type": "code",
   "execution_count": 45,
   "id": "44dc722b",
   "metadata": {},
   "outputs": [],
   "source": [
    "text = word_tokenize(mysent)\n",
    "pos_tags = nltk.pos_tag(text)"
   ]
  },
  {
   "cell_type": "code",
   "execution_count": 43,
   "id": "778eb07b",
   "metadata": {},
   "outputs": [
    {
     "data": {
      "text/plain": [
       "8"
      ]
     },
     "execution_count": 43,
     "metadata": {},
     "output_type": "execute_result"
    }
   ],
   "source": [
    "text.index('album')"
   ]
  },
  {
   "cell_type": "code",
   "execution_count": 44,
   "id": "5d93b1b4",
   "metadata": {},
   "outputs": [
    {
     "data": {
      "text/plain": [
       "'album'"
      ]
     },
     "execution_count": 44,
     "metadata": {},
     "output_type": "execute_result"
    }
   ],
   "source": [
    "text[8]"
   ]
  },
  {
   "cell_type": "code",
   "execution_count": 47,
   "id": "4f6aadcf",
   "metadata": {},
   "outputs": [
    {
     "data": {
      "text/plain": [
       "[('Vanilla', 'NNP'),\n",
       " ('Fudge', 'NNP'),\n",
       " ('is', 'VBZ'),\n",
       " ('a', 'DT'),\n",
       " ('band', 'NN'),\n",
       " (',', ','),\n",
       " ('not', 'RB'),\n",
       " ('an', 'DT'),\n",
       " ('album', 'NN'),\n",
       " ('.', '.')]"
      ]
     },
     "execution_count": 47,
     "metadata": {},
     "output_type": "execute_result"
    }
   ],
   "source": [
    "pos_tags"
   ]
  },
  {
   "cell_type": "code",
   "execution_count": 46,
   "id": "5e98aee5",
   "metadata": {},
   "outputs": [
    {
     "data": {
      "text/plain": [
       "('album', 'NN')"
      ]
     },
     "execution_count": 46,
     "metadata": {},
     "output_type": "execute_result"
    }
   ],
   "source": [
    "pos_tags[8]"
   ]
  },
  {
   "cell_type": "code",
   "execution_count": 68,
   "id": "2b246cc5",
   "metadata": {},
   "outputs": [
    {
     "data": {
      "text/plain": [
       "'Alexander Vasiliev is not a human because he is a fictional character from the novel War and Peace by Leo Tolstoy.'"
      ]
     },
     "execution_count": 68,
     "metadata": {},
     "output_type": "execute_result"
    }
   ],
   "source": [
    "mysample"
   ]
  },
  {
   "cell_type": "code",
   "execution_count": 66,
   "id": "795b15e4",
   "metadata": {},
   "outputs": [],
   "source": [
    "text = word_tokenize(mysample)\n",
    "pos_tags = nltk.pos_tag(text)"
   ]
  },
  {
   "cell_type": "code",
   "execution_count": 69,
   "id": "96e96687",
   "metadata": {},
   "outputs": [
    {
     "data": {
      "text/plain": [
       "5"
      ]
     },
     "execution_count": 69,
     "metadata": {},
     "output_type": "execute_result"
    }
   ],
   "source": [
    "text.index('human')"
   ]
  },
  {
   "cell_type": "code",
   "execution_count": 70,
   "id": "a6bf23ca",
   "metadata": {},
   "outputs": [
    {
     "data": {
      "text/plain": [
       "'human'"
      ]
     },
     "execution_count": 70,
     "metadata": {},
     "output_type": "execute_result"
    }
   ],
   "source": [
    "text[5]"
   ]
  },
  {
   "cell_type": "code",
   "execution_count": 71,
   "id": "5868aaaf",
   "metadata": {},
   "outputs": [
    {
     "data": {
      "text/plain": [
       "[('Alexander', 'NNP'),\n",
       " ('Vasiliev', 'NNP'),\n",
       " ('is', 'VBZ'),\n",
       " ('not', 'RB'),\n",
       " ('a', 'DT'),\n",
       " ('human', 'JJ'),\n",
       " ('because', 'IN'),\n",
       " ('he', 'PRP'),\n",
       " ('is', 'VBZ'),\n",
       " ('a', 'DT'),\n",
       " ('fictional', 'JJ'),\n",
       " ('character', 'NN'),\n",
       " ('from', 'IN'),\n",
       " ('the', 'DT'),\n",
       " ('novel', 'JJ'),\n",
       " ('War', 'NNP'),\n",
       " ('and', 'CC'),\n",
       " ('Peace', 'NNP'),\n",
       " ('by', 'IN'),\n",
       " ('Leo', 'NNP'),\n",
       " ('Tolstoy', 'NNP'),\n",
       " ('.', '.')]"
      ]
     },
     "execution_count": 71,
     "metadata": {},
     "output_type": "execute_result"
    }
   ],
   "source": [
    "pos_tags"
   ]
  },
  {
   "cell_type": "code",
   "execution_count": 46,
   "id": "d8d52b12",
   "metadata": {},
   "outputs": [
    {
     "data": {
      "text/plain": [
       "('album', 'NN')"
      ]
     },
     "execution_count": 46,
     "metadata": {},
     "output_type": "execute_result"
    }
   ],
   "source": [
    "pos_tags[8]"
   ]
  },
  {
   "cell_type": "code",
   "execution_count": 76,
   "id": "87a06c3a",
   "metadata": {},
   "outputs": [
    {
     "data": {
      "text/plain": [
       "[('album', 'NN'),\n",
       " ('business', 'NN'),\n",
       " ('film', 'NN'),\n",
       " ('human', 'JJ'),\n",
       " ('literary work', 'NN'),\n",
       " ('mountain', 'NN'),\n",
       " ('musical group', 'NN'),\n",
       " ('river', 'NN'),\n",
       " ('television series', 'NNS'),\n",
       " ('village', 'NN')]"
      ]
     },
     "execution_count": 76,
     "metadata": {},
     "output_type": "execute_result"
    }
   ],
   "source": [
    "nltk.pos_tag(df['classLabel.value'].unique())"
   ]
  },
  {
   "cell_type": "code",
   "execution_count": 77,
   "id": "ca6c7144",
   "metadata": {},
   "outputs": [
    {
     "data": {
      "text/plain": [
       "[('television', 'NN'), ('series', 'NN'), ('television series', 'NNS')]"
      ]
     },
     "execution_count": 77,
     "metadata": {},
     "output_type": "execute_result"
    }
   ],
   "source": [
    "nltk.pos_tag(('television', 'series', 'television series'))"
   ]
  },
  {
   "cell_type": "code",
   "execution_count": 78,
   "id": "e5ee7aff",
   "metadata": {},
   "outputs": [
    {
     "data": {
      "text/plain": [
       "[('literary', 'JJ'), ('work', 'NN'), ('literary work', 'NN')]"
      ]
     },
     "execution_count": 78,
     "metadata": {},
     "output_type": "execute_result"
    }
   ],
   "source": [
    "nltk.pos_tag(('literary', 'work', 'literary work'))"
   ]
  },
  {
   "cell_type": "code",
   "execution_count": 79,
   "id": "dbd8d7e0",
   "metadata": {},
   "outputs": [
    {
     "data": {
      "text/plain": [
       "[('musical', 'JJ'), ('group', 'NN'), ('musical group', 'NN')]"
      ]
     },
     "execution_count": 79,
     "metadata": {},
     "output_type": "execute_result"
    }
   ],
   "source": [
    "nltk.pos_tag(('musical', 'group', 'musical group'))"
   ]
  },
  {
   "cell_type": "code",
   "execution_count": 156,
   "id": "338a4cce",
   "metadata": {},
   "outputs": [
    {
     "data": {
      "text/plain": [
       "'albums'"
      ]
     },
     "execution_count": 156,
     "metadata": {},
     "output_type": "execute_result"
    }
   ],
   "source": [
    "[x for x in \"Poop albums test bananas\".split(\" \") if 'album' in x][0]"
   ]
  },
  {
   "cell_type": "code",
   "execution_count": 159,
   "id": "712f95f2",
   "metadata": {},
   "outputs": [
    {
     "data": {
      "text/plain": [
       "1"
      ]
     },
     "execution_count": 159,
     "metadata": {},
     "output_type": "execute_result"
    }
   ],
   "source": []
  },
  {
   "cell_type": "code",
   "execution_count": 175,
   "id": "77cce124",
   "metadata": {},
   "outputs": [],
   "source": [
    "def get_characterization(sent, superset):\n",
    "    anchor_str = superset.split(\" \")[0]\n",
    "    text = word_tokenize(str(sent))\n",
    "    if superset in text:\n",
    "        anchor_index = text.index(anchor_str)\n",
    "        return text[anchor_index-3:anchor_index]\n",
    "    else:\n",
    "        try:\n",
    "            modified_anchor = [x for x in text if superset in x][0]\n",
    "            anchor_index = text.index(modified_anchor)\n",
    "            return text[anchor_index-3:anchor_index]\n",
    "        except:\n",
    "            return \"Error3\"\n",
    "        #         x.contains(anchor_str)\n",
    "#     pos_tags = nltk.pos_tag(text)\n",
    "    \n",
    "    return \"Error2\""
   ]
  },
  {
   "cell_type": "code",
   "execution_count": 132,
   "id": "babd9bfa",
   "metadata": {},
   "outputs": [
    {
     "data": {
      "text/plain": [
       "'Gnagno Philibert Fagnidi is not a human because it is a fictional character created by French author Marcel Aymé in his novel, The Man Who Walked Through Walls.'"
      ]
     },
     "execution_count": 132,
     "metadata": {},
     "output_type": "execute_result"
    }
   ],
   "source": [
    "mysample1"
   ]
  },
  {
   "cell_type": "code",
   "execution_count": 133,
   "id": "568e4ea7",
   "metadata": {},
   "outputs": [
    {
     "data": {
      "text/plain": [
       "[('is', 'VBZ'), ('not', 'RB'), ('a', 'DT')]"
      ]
     },
     "execution_count": 133,
     "metadata": {},
     "output_type": "execute_result"
    }
   ],
   "source": [
    "get_characterization(mysample1, 'human')"
   ]
  },
  {
   "cell_type": "code",
   "execution_count": 135,
   "id": "06c077b5",
   "metadata": {},
   "outputs": [
    {
     "data": {
      "text/plain": [
       "['is', 'not', 'a']"
      ]
     },
     "execution_count": 135,
     "metadata": {},
     "output_type": "execute_result"
    }
   ],
   "source": [
    "get_characterization(mysample1, 'human')"
   ]
  },
  {
   "cell_type": "code",
   "execution_count": 128,
   "id": "2333e1d6",
   "metadata": {},
   "outputs": [
    {
     "data": {
      "text/plain": [
       "'The Enemies of Jupiter is not a literary work because it is a comic book series.'"
      ]
     },
     "execution_count": 128,
     "metadata": {},
     "output_type": "execute_result"
    }
   ],
   "source": [
    "mysample3"
   ]
  },
  {
   "cell_type": "code",
   "execution_count": 129,
   "id": "e249ad5f",
   "metadata": {},
   "outputs": [
    {
     "data": {
      "text/plain": [
       "[('is', 'VBZ'), ('not', 'RB'), ('a', 'DT')]"
      ]
     },
     "execution_count": 129,
     "metadata": {},
     "output_type": "execute_result"
    }
   ],
   "source": [
    "get_characterization(mysample3, 'literary work')"
   ]
  },
  {
   "cell_type": "code",
   "execution_count": 136,
   "id": "7ebb9d46",
   "metadata": {},
   "outputs": [
    {
     "data": {
      "text/plain": [
       "['is', 'not', 'a']"
      ]
     },
     "execution_count": 136,
     "metadata": {},
     "output_type": "execute_result"
    }
   ],
   "source": [
    "get_characterization(mysample3, 'literary work')"
   ]
  },
  {
   "cell_type": "code",
   "execution_count": 130,
   "id": "d6ea716f",
   "metadata": {},
   "outputs": [
    {
     "data": {
      "text/plain": [
       "'Dead or Alive is not a musical group; it is a video game series developed by Team Ninja and published by Koei Tecmo.'"
      ]
     },
     "execution_count": 130,
     "metadata": {},
     "output_type": "execute_result"
    }
   ],
   "source": [
    "mysample2"
   ]
  },
  {
   "cell_type": "code",
   "execution_count": 131,
   "id": "01a891d1",
   "metadata": {},
   "outputs": [
    {
     "data": {
      "text/plain": [
       "[('is', 'VBZ'), ('not', 'RB'), ('a', 'DT')]"
      ]
     },
     "execution_count": 131,
     "metadata": {},
     "output_type": "execute_result"
    }
   ],
   "source": [
    "get_characterization(mysample2, 'musical group')"
   ]
  },
  {
   "cell_type": "code",
   "execution_count": 137,
   "id": "265b0b0f",
   "metadata": {},
   "outputs": [
    {
     "data": {
      "text/plain": [
       "['is', 'not', 'a']"
      ]
     },
     "execution_count": 137,
     "metadata": {},
     "output_type": "execute_result"
    }
   ],
   "source": [
    "get_characterization(mysample2, 'musical group')"
   ]
  },
  {
   "cell_type": "code",
   "execution_count": 138,
   "id": "3ef37903",
   "metadata": {},
   "outputs": [
    {
     "data": {
      "text/plain": [
       "['Mayonaise', 'is', 'an']"
      ]
     },
     "execution_count": 138,
     "metadata": {},
     "output_type": "execute_result"
    }
   ],
   "source": [
    "get_characterization(\"Mayonaise is an instrument, because explanation.\", 'instrument')"
   ]
  },
  {
   "cell_type": "code",
   "execution_count": 140,
   "id": "380250e6",
   "metadata": {},
   "outputs": [],
   "source": [
    "import uuid"
   ]
  },
  {
   "cell_type": "code",
   "execution_count": 143,
   "id": "bf72dba2",
   "metadata": {},
   "outputs": [],
   "source": [
    "df['GUID'] = [str(uuid.uuid4()) for x in range(0, len(df))]"
   ]
  },
  {
   "cell_type": "code",
   "execution_count": 147,
   "id": "164aec89",
   "metadata": {},
   "outputs": [],
   "source": [
    "df_pivot = df[['GUID', 'itemLabel.value', 'classLabel.value', 'sents_containing_superset']].explode('sents_containing_superset')"
   ]
  },
  {
   "cell_type": "code",
   "execution_count": 146,
   "id": "92ef4213",
   "metadata": {},
   "outputs": [
    {
     "data": {
      "text/plain": [
       "16"
      ]
     },
     "execution_count": 146,
     "metadata": {},
     "output_type": "execute_result"
    }
   ],
   "source": [
    "\"Văleni is not a village because it is a commune, which is a larger administrative division than a village.\".index('village')"
   ]
  },
  {
   "cell_type": "code",
   "execution_count": 149,
   "id": "07f9babf",
   "metadata": {},
   "outputs": [
    {
     "data": {
      "text/html": [
       "<div>\n",
       "<style scoped>\n",
       "    .dataframe tbody tr th:only-of-type {\n",
       "        vertical-align: middle;\n",
       "    }\n",
       "\n",
       "    .dataframe tbody tr th {\n",
       "        vertical-align: top;\n",
       "    }\n",
       "\n",
       "    .dataframe thead th {\n",
       "        text-align: right;\n",
       "    }\n",
       "</style>\n",
       "<table border=\"1\" class=\"dataframe\">\n",
       "  <thead>\n",
       "    <tr style=\"text-align: right;\">\n",
       "      <th></th>\n",
       "      <th>GUID</th>\n",
       "      <th>itemLabel.value</th>\n",
       "      <th>classLabel.value</th>\n",
       "      <th>sents_containing_superset</th>\n",
       "    </tr>\n",
       "  </thead>\n",
       "  <tbody>\n",
       "    <tr>\n",
       "      <th>0</th>\n",
       "      <td>69e1d725-0c1b-4db1-b869-138d48f2878f</td>\n",
       "      <td>Where the Wild Things Are</td>\n",
       "      <td>album</td>\n",
       "      <td>It is not an album.</td>\n",
       "    </tr>\n",
       "    <tr>\n",
       "      <th>1</th>\n",
       "      <td>662fb47f-eecc-4cf4-af96-06b868109221</td>\n",
       "      <td>Vanilla Fudge</td>\n",
       "      <td>album</td>\n",
       "      <td>Vanilla Fudge is a band, not an album.</td>\n",
       "    </tr>\n",
       "    <tr>\n",
       "      <th>1</th>\n",
       "      <td>662fb47f-eecc-4cf4-af96-06b868109221</td>\n",
       "      <td>Vanilla Fudge</td>\n",
       "      <td>album</td>\n",
       "      <td>The band released five studio albums between 1967 and 1970, as well as several live albums and compilations.</td>\n",
       "    </tr>\n",
       "    <tr>\n",
       "      <th>2</th>\n",
       "      <td>142b2989-2adc-4f8c-a689-646d08dcc8ee</td>\n",
       "      <td>Songs in the Key of Beotch</td>\n",
       "      <td>album</td>\n",
       "      <td>Songs in the Key of Beotch is not an album because it is not an official release.</td>\n",
       "    </tr>\n",
       "    <tr>\n",
       "      <th>2</th>\n",
       "      <td>142b2989-2adc-4f8c-a689-646d08dcc8ee</td>\n",
       "      <td>Songs in the Key of Beotch</td>\n",
       "      <td>album</td>\n",
       "      <td>It is a compilation of songs by various artists, including the Beastie Boys, that were released on various albums.</td>\n",
       "    </tr>\n",
       "    <tr>\n",
       "      <th>...</th>\n",
       "      <td>...</td>\n",
       "      <td>...</td>\n",
       "      <td>...</td>\n",
       "      <td>...</td>\n",
       "    </tr>\n",
       "    <tr>\n",
       "      <th>4625</th>\n",
       "      <td>c037a523-4365-4435-a87d-da36b95544eb</td>\n",
       "      <td>Văleni</td>\n",
       "      <td>village</td>\n",
       "      <td>Văleni is not a village because it is a commune, which is a larger administrative division than a village.</td>\n",
       "    </tr>\n",
       "    <tr>\n",
       "      <th>4625</th>\n",
       "      <td>c037a523-4365-4435-a87d-da36b95544eb</td>\n",
       "      <td>Văleni</td>\n",
       "      <td>village</td>\n",
       "      <td>A commune is typically made up of several villages and other settlements.</td>\n",
       "    </tr>\n",
       "    <tr>\n",
       "      <th>4626</th>\n",
       "      <td>7a965a76-e80d-4b13-8454-cbc86b01b594</td>\n",
       "      <td>Bandor-e Sofla</td>\n",
       "      <td>village</td>\n",
       "      <td>Bandor-e Sofla is not a village because it is a neighborhood in the city of Bandar-e Anzali, Iran.</td>\n",
       "    </tr>\n",
       "    <tr>\n",
       "      <th>4627</th>\n",
       "      <td>fc64216f-7217-4e14-885f-325e53aec9fe</td>\n",
       "      <td>Groß Gaglow</td>\n",
       "      <td>village</td>\n",
       "      <td>Groß Gaglow is not a village because it is a part of the town of Gaglow, which is located in the state of Brandenburg, Germany.</td>\n",
       "    </tr>\n",
       "    <tr>\n",
       "      <th>4627</th>\n",
       "      <td>fc64216f-7217-4e14-885f-325e53aec9fe</td>\n",
       "      <td>Groß Gaglow</td>\n",
       "      <td>village</td>\n",
       "      <td>Groß Gaglow is a district of Gaglow, and is not considered a separate village.</td>\n",
       "    </tr>\n",
       "  </tbody>\n",
       "</table>\n",
       "<p>5214 rows × 4 columns</p>\n",
       "</div>"
      ],
      "text/plain": [
       "                                      GUID             itemLabel.value  \\\n",
       "0     69e1d725-0c1b-4db1-b869-138d48f2878f   Where the Wild Things Are   \n",
       "1     662fb47f-eecc-4cf4-af96-06b868109221               Vanilla Fudge   \n",
       "1     662fb47f-eecc-4cf4-af96-06b868109221               Vanilla Fudge   \n",
       "2     142b2989-2adc-4f8c-a689-646d08dcc8ee  Songs in the Key of Beotch   \n",
       "2     142b2989-2adc-4f8c-a689-646d08dcc8ee  Songs in the Key of Beotch   \n",
       "...                                    ...                         ...   \n",
       "4625  c037a523-4365-4435-a87d-da36b95544eb                      Văleni   \n",
       "4625  c037a523-4365-4435-a87d-da36b95544eb                      Văleni   \n",
       "4626  7a965a76-e80d-4b13-8454-cbc86b01b594              Bandor-e Sofla   \n",
       "4627  fc64216f-7217-4e14-885f-325e53aec9fe                 Groß Gaglow   \n",
       "4627  fc64216f-7217-4e14-885f-325e53aec9fe                 Groß Gaglow   \n",
       "\n",
       "     classLabel.value  \\\n",
       "0               album   \n",
       "1               album   \n",
       "1               album   \n",
       "2               album   \n",
       "2               album   \n",
       "...               ...   \n",
       "4625          village   \n",
       "4625          village   \n",
       "4626          village   \n",
       "4627          village   \n",
       "4627          village   \n",
       "\n",
       "                                                                                                            sents_containing_superset  \n",
       "0                                                                                                                 It is not an album.  \n",
       "1                                                                                              Vanilla Fudge is a band, not an album.  \n",
       "1                        The band released five studio albums between 1967 and 1970, as well as several live albums and compilations.  \n",
       "2                                                   Songs in the Key of Beotch is not an album because it is not an official release.  \n",
       "2                  It is a compilation of songs by various artists, including the Beastie Boys, that were released on various albums.  \n",
       "...                                                                                                                               ...  \n",
       "4625                       Văleni is not a village because it is a commune, which is a larger administrative division than a village.  \n",
       "4625                                                        A commune is typically made up of several villages and other settlements.  \n",
       "4626                               Bandor-e Sofla is not a village because it is a neighborhood in the city of Bandar-e Anzali, Iran.  \n",
       "4627  Groß Gaglow is not a village because it is a part of the town of Gaglow, which is located in the state of Brandenburg, Germany.  \n",
       "4627                                                   Groß Gaglow is a district of Gaglow, and is not considered a separate village.  \n",
       "\n",
       "[5214 rows x 4 columns]"
      ]
     },
     "execution_count": 149,
     "metadata": {},
     "output_type": "execute_result"
    }
   ],
   "source": [
    "df_pivot"
   ]
  },
  {
   "cell_type": "code",
   "execution_count": 194,
   "id": "fc85f281",
   "metadata": {},
   "outputs": [],
   "source": [
    "df_pivot['characterization'] = df_pivot.apply(lambda x: get_characterization(x['sents_containing_superset'], x['classLabel.value']), axis=1)"
   ]
  },
  {
   "cell_type": "code",
   "execution_count": 196,
   "id": "0fc53213",
   "metadata": {},
   "outputs": [],
   "source": [
    "df_pivot['Contains not'] = df_pivot.apply(lambda x: \" not \" in str(x['sents_containing_superset']), axis=1)"
   ]
  },
  {
   "cell_type": "code",
   "execution_count": 204,
   "id": "ffadd64c",
   "metadata": {},
   "outputs": [],
   "source": [
    "df_pivot = df_pivot.drop(columns=['Contains NOT'])"
   ]
  },
  {
   "cell_type": "code",
   "execution_count": 208,
   "id": "9caf00a0",
   "metadata": {},
   "outputs": [],
   "source": [
    "df['num sents containing superset'] = df['sents_containing_superset'].str.len()"
   ]
  },
  {
   "cell_type": "code",
   "execution_count": 216,
   "id": "ff0dbe30",
   "metadata": {},
   "outputs": [
    {
     "data": {
      "text/html": [
       "<div>\n",
       "<style scoped>\n",
       "    .dataframe tbody tr th:only-of-type {\n",
       "        vertical-align: middle;\n",
       "    }\n",
       "\n",
       "    .dataframe tbody tr th {\n",
       "        vertical-align: top;\n",
       "    }\n",
       "\n",
       "    .dataframe thead th {\n",
       "        text-align: right;\n",
       "    }\n",
       "</style>\n",
       "<table border=\"1\" class=\"dataframe\">\n",
       "  <thead>\n",
       "    <tr style=\"text-align: right;\">\n",
       "      <th></th>\n",
       "      <th>GUID</th>\n",
       "      <th>itemLabel.value</th>\n",
       "      <th>classLabel.value</th>\n",
       "      <th>sents_containing_superset</th>\n",
       "      <th>characterization</th>\n",
       "      <th>Contains not</th>\n",
       "    </tr>\n",
       "  </thead>\n",
       "  <tbody>\n",
       "    <tr>\n",
       "      <th>118</th>\n",
       "      <td>17b52157-5c81-4127-bb35-cf245b2aa08f</td>\n",
       "      <td>The Natural Thing</td>\n",
       "      <td>album</td>\n",
       "      <td>It is the title track of their seventh studio album, Strangers in the Night.</td>\n",
       "      <td>[their, seventh, studio]</td>\n",
       "      <td>False</td>\n",
       "    </tr>\n",
       "    <tr>\n",
       "      <th>130</th>\n",
       "      <td>eeee0075-2bfa-4931-a2f2-cd571848740f</td>\n",
       "      <td>Quello che non c'è</td>\n",
       "      <td>album</td>\n",
       "      <td>It has never been released as an album.</td>\n",
       "      <td>[released, as, an]</td>\n",
       "      <td>False</td>\n",
       "    </tr>\n",
       "    <tr>\n",
       "      <th>142</th>\n",
       "      <td>ab0a1bb5-e958-4ded-bbe9-e85cd0c1b583</td>\n",
       "      <td>Feel Like Makin' Love</td>\n",
       "      <td>album</td>\n",
       "      <td>It was the lead single from their third studio album, Straight Shooter.</td>\n",
       "      <td>[their, third, studio]</td>\n",
       "      <td>False</td>\n",
       "    </tr>\n",
       "    <tr>\n",
       "      <th>196</th>\n",
       "      <td>bfc26a87-176b-4da9-a5da-feebc4f7d1fa</td>\n",
       "      <td>Woyaya</td>\n",
       "      <td>album</td>\n",
       "      <td>It has been covered by many artists, including Peter Gabriel, but it has never been released as an album.</td>\n",
       "      <td>[released, as, an]</td>\n",
       "      <td>False</td>\n",
       "    </tr>\n",
       "    <tr>\n",
       "      <th>201</th>\n",
       "      <td>eb8388d4-88d1-493e-ac75-082547c3abca</td>\n",
       "      <td>Sacrifice and Bliss</td>\n",
       "      <td>album</td>\n",
       "      <td>It was released as a single, but it was never released as an album.</td>\n",
       "      <td>[released, as, an]</td>\n",
       "      <td>False</td>\n",
       "    </tr>\n",
       "    <tr>\n",
       "      <th>...</th>\n",
       "      <td>...</td>\n",
       "      <td>...</td>\n",
       "      <td>...</td>\n",
       "      <td>...</td>\n",
       "      <td>...</td>\n",
       "      <td>...</td>\n",
       "    </tr>\n",
       "    <tr>\n",
       "      <th>4398</th>\n",
       "      <td>a7884652-084b-4bae-be36-6a9511e8dd1d</td>\n",
       "      <td>The Law &amp; Harry McGraw</td>\n",
       "      <td>television series</td>\n",
       "      <td>The Law &amp; Harry McGraw was a spin-off of the popular television series, Magnum, P.I.</td>\n",
       "      <td>Error3</td>\n",
       "      <td>False</td>\n",
       "    </tr>\n",
       "    <tr>\n",
       "      <th>4399</th>\n",
       "      <td>b91277b4-7d06-43fe-82a2-34bc6b09cacf</td>\n",
       "      <td>Making the Band</td>\n",
       "      <td>television series</td>\n",
       "      <td>Making the Band was a television series that aired from 2002 to 2009.</td>\n",
       "      <td>Error3</td>\n",
       "      <td>False</td>\n",
       "    </tr>\n",
       "    <tr>\n",
       "      <th>4407</th>\n",
       "      <td>a7f7a427-4de8-40c4-88a2-b15d6f7eabc3</td>\n",
       "      <td>Pink Panther and Pals</td>\n",
       "      <td>television series</td>\n",
       "      <td>Pink Panther and Pals is an animated television series that originally aired from 2010 to 2013.</td>\n",
       "      <td>Error3</td>\n",
       "      <td>False</td>\n",
       "    </tr>\n",
       "    <tr>\n",
       "      <th>4416</th>\n",
       "      <td>0eedbd6a-b0c5-4f4d-a2f9-677ef3327ea6</td>\n",
       "      <td>Livewire</td>\n",
       "      <td>television series</td>\n",
       "      <td>Livewire is a comic book character created by DC Comics, and as such, there is no television series based on the character.</td>\n",
       "      <td>Error3</td>\n",
       "      <td>False</td>\n",
       "    </tr>\n",
       "    <tr>\n",
       "      <th>4420</th>\n",
       "      <td>b1a6f47b-6377-4601-9dc6-81801d896afe</td>\n",
       "      <td>Wonder Pets!</td>\n",
       "      <td>television series</td>\n",
       "      <td>is an animated television series that aired from 2006 to 2015.</td>\n",
       "      <td>Error3</td>\n",
       "      <td>False</td>\n",
       "    </tr>\n",
       "  </tbody>\n",
       "</table>\n",
       "<p>83 rows × 6 columns</p>\n",
       "</div>"
      ],
      "text/plain": [
       "                                      GUID         itemLabel.value  \\\n",
       "118   17b52157-5c81-4127-bb35-cf245b2aa08f       The Natural Thing   \n",
       "130   eeee0075-2bfa-4931-a2f2-cd571848740f      Quello che non c'è   \n",
       "142   ab0a1bb5-e958-4ded-bbe9-e85cd0c1b583   Feel Like Makin' Love   \n",
       "196   bfc26a87-176b-4da9-a5da-feebc4f7d1fa                  Woyaya   \n",
       "201   eb8388d4-88d1-493e-ac75-082547c3abca     Sacrifice and Bliss   \n",
       "...                                    ...                     ...   \n",
       "4398  a7884652-084b-4bae-be36-6a9511e8dd1d  The Law & Harry McGraw   \n",
       "4399  b91277b4-7d06-43fe-82a2-34bc6b09cacf         Making the Band   \n",
       "4407  a7f7a427-4de8-40c4-88a2-b15d6f7eabc3   Pink Panther and Pals   \n",
       "4416  0eedbd6a-b0c5-4f4d-a2f9-677ef3327ea6                Livewire   \n",
       "4420  b1a6f47b-6377-4601-9dc6-81801d896afe            Wonder Pets!   \n",
       "\n",
       "       classLabel.value  \\\n",
       "118               album   \n",
       "130               album   \n",
       "142               album   \n",
       "196               album   \n",
       "201               album   \n",
       "...                 ...   \n",
       "4398  television series   \n",
       "4399  television series   \n",
       "4407  television series   \n",
       "4416  television series   \n",
       "4420  television series   \n",
       "\n",
       "                                                                                                        sents_containing_superset  \\\n",
       "118                                                  It is the title track of their seventh studio album, Strangers in the Night.   \n",
       "130                                                                                       It has never been released as an album.   \n",
       "142                                                       It was the lead single from their third studio album, Straight Shooter.   \n",
       "196                     It has been covered by many artists, including Peter Gabriel, but it has never been released as an album.   \n",
       "201                                                           It was released as a single, but it was never released as an album.   \n",
       "...                                                                                                                           ...   \n",
       "4398                                         The Law & Harry McGraw was a spin-off of the popular television series, Magnum, P.I.   \n",
       "4399                                                        Making the Band was a television series that aired from 2002 to 2009.   \n",
       "4407                              Pink Panther and Pals is an animated television series that originally aired from 2010 to 2013.   \n",
       "4416  Livewire is a comic book character created by DC Comics, and as such, there is no television series based on the character.   \n",
       "4420                                                               is an animated television series that aired from 2006 to 2015.   \n",
       "\n",
       "              characterization  Contains not  \n",
       "118   [their, seventh, studio]         False  \n",
       "130         [released, as, an]         False  \n",
       "142     [their, third, studio]         False  \n",
       "196         [released, as, an]         False  \n",
       "201         [released, as, an]         False  \n",
       "...                        ...           ...  \n",
       "4398                    Error3         False  \n",
       "4399                    Error3         False  \n",
       "4407                    Error3         False  \n",
       "4416                    Error3         False  \n",
       "4420                    Error3         False  \n",
       "\n",
       "[83 rows x 6 columns]"
      ]
     },
     "execution_count": 216,
     "metadata": {},
     "output_type": "execute_result"
    }
   ],
   "source": [
    "len_one_responses = df[df['num sents containing superset']==1]['GUID']\n",
    "no_refutation = df_pivot[df_pivot['Contains not']==False]['GUID']\n",
    "df_pivot[(df_pivot['GUID'].isin(len_one_responses)) & (df_pivot['GUID'].isin(no_refutation))]"
   ]
  },
  {
   "cell_type": "code",
   "execution_count": 231,
   "id": "993d8a76",
   "metadata": {},
   "outputs": [],
   "source": [
    "df_pivot[(df_pivot['characterization'].astype(str).str.contains(\"Error\")) & (df_pivot['Contains not']==False)].to_csv(\"false presupposition triage2.csv\", index=False)"
   ]
  },
  {
   "cell_type": "code",
   "execution_count": 238,
   "id": "86f3252c",
   "metadata": {},
   "outputs": [
    {
     "data": {
      "text/html": [
       "<style>.container { width:100% !important; }</style>"
      ],
      "text/plain": [
       "<IPython.core.display.HTML object>"
      ]
     },
     "metadata": {},
     "output_type": "display_data"
    }
   ],
   "source": [
    "from IPython.display import display, HTML\n",
    "display(HTML(\"<style>.container { width:100% !important; }</style>\"))"
   ]
  },
  {
   "cell_type": "code",
   "execution_count": 234,
   "id": "70aa27e1",
   "metadata": {},
   "outputs": [],
   "source": [
    "import re"
   ]
  },
  {
   "cell_type": "code",
   "execution_count": 250,
   "id": "1b4232c6",
   "metadata": {},
   "outputs": [],
   "source": [
    "def contains_refutation(text):\n",
    "    if re.search(\"(is not (?:an|a))\", text):\n",
    "        return True\n",
    "#     if re.search(\"(not (?:an|a))\", text):\n",
    "#         return True\n",
    "    else:\n",
    "        return False\n",
    "    \n",
    "def contains_refutation2(text):\n",
    "#     if re.search(\"(is not (?:an|a))\", text):\n",
    "#         return True\n",
    "    if re.search(\"(not (?:an|a))\", text):\n",
    "        return True\n",
    "    else:\n",
    "        return False"
   ]
  },
  {
   "cell_type": "code",
   "execution_count": 247,
   "id": "12de2429",
   "metadata": {},
   "outputs": [],
   "source": [
    "df['refutation'] = df['false presupposition response'].apply(contains_refutation)"
   ]
  },
  {
   "cell_type": "code",
   "execution_count": 251,
   "id": "d0c47c57",
   "metadata": {},
   "outputs": [],
   "source": [
    "df['refutation2'] = df['false presupposition response'].apply(contains_refutation2)"
   ]
  },
  {
   "cell_type": "code",
   "execution_count": 253,
   "id": "27db947d",
   "metadata": {},
   "outputs": [
    {
     "data": {
      "text/plain": [
       "393"
      ]
     },
     "execution_count": 253,
     "metadata": {},
     "output_type": "execute_result"
    }
   ],
   "source": [
    "len(df[df['refutation']==False])"
   ]
  },
  {
   "cell_type": "code",
   "execution_count": 260,
   "id": "bdc57e31",
   "metadata": {},
   "outputs": [
    {
     "data": {
      "text/plain": [
       "193"
      ]
     },
     "execution_count": 260,
     "metadata": {},
     "output_type": "execute_result"
    }
   ],
   "source": [
    "len(df[~df['refutation'] & df['refutation2']])"
   ]
  },
  {
   "cell_type": "code",
   "execution_count": 262,
   "id": "7c86a1fc",
   "metadata": {},
   "outputs": [
    {
     "data": {
      "text/plain": [
       "0"
      ]
     },
     "execution_count": 262,
     "metadata": {},
     "output_type": "execute_result"
    }
   ],
   "source": [
    "len(df[df['refutation'] & ~df['refutation2']])"
   ]
  },
  {
   "cell_type": "code",
   "execution_count": 263,
   "id": "081c1e00",
   "metadata": {},
   "outputs": [
    {
     "data": {
      "text/plain": [
       "4235"
      ]
     },
     "execution_count": 263,
     "metadata": {},
     "output_type": "execute_result"
    }
   ],
   "source": [
    "len(df[df['refutation'] & df['refutation2']])"
   ]
  },
  {
   "cell_type": "code",
   "execution_count": 264,
   "id": "8f08f998",
   "metadata": {},
   "outputs": [
    {
     "data": {
      "text/plain": [
       "200"
      ]
     },
     "execution_count": 264,
     "metadata": {},
     "output_type": "execute_result"
    }
   ],
   "source": [
    "len(df[~df['refutation'] & ~df['refutation2']])"
   ]
  },
  {
   "cell_type": "code",
   "execution_count": 267,
   "id": "d1ca85ac",
   "metadata": {},
   "outputs": [
    {
     "data": {
      "text/plain": [
       "393"
      ]
     },
     "execution_count": 267,
     "metadata": {},
     "output_type": "execute_result"
    }
   ],
   "source": [
    "len(df[~df['refutation'] | ~df['refutation2']])"
   ]
  },
  {
   "cell_type": "code",
   "execution_count": 265,
   "id": "4470bb36",
   "metadata": {},
   "outputs": [
    {
     "data": {
      "text/plain": [
       "393"
      ]
     },
     "execution_count": 265,
     "metadata": {},
     "output_type": "execute_result"
    }
   ],
   "source": [
    "len(df[~df['refutation']])"
   ]
  },
  {
   "cell_type": "code",
   "execution_count": 266,
   "id": "e81f4c5a",
   "metadata": {},
   "outputs": [
    {
     "data": {
      "text/plain": [
       "200"
      ]
     },
     "execution_count": 266,
     "metadata": {},
     "output_type": "execute_result"
    }
   ],
   "source": [
    "len(df[~df['refutation2']])"
   ]
  },
  {
   "cell_type": "code",
   "execution_count": 326,
   "id": "285f82d9",
   "metadata": {},
   "outputs": [],
   "source": [
    "def presupposition_refutation(text, superset):\n",
    "    if re.search(f\"is (?:an|a) {superset}\", text):\n",
    "        return True\n",
    "    else:\n",
    "        return False"
   ]
  },
  {
   "cell_type": "code",
   "execution_count": 330,
   "id": "fad22bef",
   "metadata": {},
   "outputs": [],
   "source": [
    "def presupposition_acceptance(text, superset):\n",
    "    if re.search(f\"is not (?:an|a) {superset}\", text):\n",
    "        return True\n",
    "    else:\n",
    "        return False"
   ]
  },
  {
   "cell_type": "code",
   "execution_count": 328,
   "id": "d2fc404f",
   "metadata": {},
   "outputs": [],
   "source": [
    "df['refutation3'] = df.apply(lambda x: presupposition_refutation(x['false presupposition response'], x['classLabel.value']), axis=1)"
   ]
  },
  {
   "cell_type": "code",
   "execution_count": 331,
   "id": "a074e7a5",
   "metadata": {},
   "outputs": [],
   "source": [
    "df['acceptance'] = df.apply(lambda x: presupposition_acceptance(x['false presupposition response'], x['classLabel.value']), axis=1)"
   ]
  },
  {
   "cell_type": "code",
   "execution_count": 329,
   "id": "cd6dcd53",
   "metadata": {},
   "outputs": [
    {
     "data": {
      "text/plain": [
       "False    4572\n",
       "True       56\n",
       "Name: refutation3, dtype: int64"
      ]
     },
     "execution_count": 329,
     "metadata": {},
     "output_type": "execute_result"
    }
   ],
   "source": [
    "df['refutation3'].value_counts()"
   ]
  },
  {
   "cell_type": "code",
   "execution_count": 332,
   "id": "d8132ef4",
   "metadata": {},
   "outputs": [
    {
     "data": {
      "text/plain": [
       "True     4216\n",
       "False     412\n",
       "Name: acceptance, dtype: int64"
      ]
     },
     "execution_count": 332,
     "metadata": {},
     "output_type": "execute_result"
    }
   ],
   "source": [
    "df['acceptance'].value_counts()"
   ]
  },
  {
   "cell_type": "code",
   "execution_count": 337,
   "id": "6b152875",
   "metadata": {},
   "outputs": [
    {
     "data": {
      "text/html": [
       "<div>\n",
       "<style scoped>\n",
       "    .dataframe tbody tr th:only-of-type {\n",
       "        vertical-align: middle;\n",
       "    }\n",
       "\n",
       "    .dataframe tbody tr th {\n",
       "        vertical-align: top;\n",
       "    }\n",
       "\n",
       "    .dataframe thead th {\n",
       "        text-align: right;\n",
       "    }\n",
       "</style>\n",
       "<table border=\"1\" class=\"dataframe\">\n",
       "  <thead>\n",
       "    <tr style=\"text-align: right;\">\n",
       "      <th></th>\n",
       "      <th>itemLabel.value</th>\n",
       "      <th>classLabel.value</th>\n",
       "      <th>false presupposition response</th>\n",
       "    </tr>\n",
       "  </thead>\n",
       "  <tbody>\n",
       "    <tr>\n",
       "      <th>267</th>\n",
       "      <td>Villeroy &amp; Boch</td>\n",
       "      <td>business</td>\n",
       "      <td>Villeroy &amp; Boch is a company that manufactures and sells porcelain, ceramic, and glass products. It is a business, but it is not a publicly traded company, so it does not have shares that can be bought and sold on the stock market.</td>\n",
       "    </tr>\n",
       "    <tr>\n",
       "      <th>331</th>\n",
       "      <td>Batesville Casket Company</td>\n",
       "      <td>business</td>\n",
       "      <td>Batesville Casket Company is a business. It is a subsidiary of Hillenbrand, Inc., a publicly traded company that manufactures and distributes funeral services products. The company has been in business since 1884 and is one of the largest casket manufacturers in the United States.</td>\n",
       "    </tr>\n",
       "    <tr>\n",
       "      <th>394</th>\n",
       "      <td>Loggerheads</td>\n",
       "      <td>film</td>\n",
       "      <td>Loggerheads is a 2005 independent drama film, so it is a film.</td>\n",
       "    </tr>\n",
       "    <tr>\n",
       "      <th>496</th>\n",
       "      <td>John Rabe</td>\n",
       "      <td>film</td>\n",
       "      <td>John Rabe is a real-life figure who is the subject of a 2009 German-Chinese film called \"John Rabe.\" The film is based on the true story of John Rabe, a German businessman who saved the lives of over 200,000 Chinese during the Nanjing Massacre in 1937. While there is a film about John Rabe, there is no film actually titled \"John Rabe.\"</td>\n",
       "    </tr>\n",
       "    <tr>\n",
       "      <th>559</th>\n",
       "      <td>James Shaw</td>\n",
       "      <td>human</td>\n",
       "      <td>James Shaw is a human. He is a politician from New Zealand who is currently serving as the Minister of Climate Change.</td>\n",
       "    </tr>\n",
       "    <tr>\n",
       "      <th>578</th>\n",
       "      <td>Neil Sheehan</td>\n",
       "      <td>human</td>\n",
       "      <td>Neil Sheehan is a human. He is an American journalist and author who won the Pulitzer Prize for International Reporting in 1989 for his coverage of the Vietnam War.</td>\n",
       "    </tr>\n",
       "    <tr>\n",
       "      <th>611</th>\n",
       "      <td>Rakesh Satyal</td>\n",
       "      <td>human</td>\n",
       "      <td>Rakesh Satyal is a human. He is an American author and editor who has written several books, including Blue Boy and No One Can Pronounce My Name.</td>\n",
       "    </tr>\n",
       "    <tr>\n",
       "      <th>666</th>\n",
       "      <td>Keeley Hawes</td>\n",
       "      <td>human</td>\n",
       "      <td>Keeley Hawes is a human. She is an English actress who has appeared in many films and television shows.</td>\n",
       "    </tr>\n",
       "    <tr>\n",
       "      <th>672</th>\n",
       "      <td>Heidi Baker</td>\n",
       "      <td>human</td>\n",
       "      <td>Heidi Baker is a human. She is a missionary and the co-founder of Iris Global, a Christian mission organization.</td>\n",
       "    </tr>\n",
       "    <tr>\n",
       "      <th>786</th>\n",
       "      <td>Saeb Erekat</td>\n",
       "      <td>human</td>\n",
       "      <td>Saeb Erekat is a human. He is a Palestinian diplomat and politician who has served as the Secretary General of the Palestine Liberation Organization since 2015.</td>\n",
       "    </tr>\n",
       "    <tr>\n",
       "      <th>788</th>\n",
       "      <td>Jerome McGann</td>\n",
       "      <td>human</td>\n",
       "      <td>Jerome McGann is a human. He is a professor of English at the University of Virginia and a leading scholar in the field of digital humanities.</td>\n",
       "    </tr>\n",
       "    <tr>\n",
       "      <th>910</th>\n",
       "      <td>Stella Stevens</td>\n",
       "      <td>human</td>\n",
       "      <td>Stella Stevens is a human. She is an American actress and model who has appeared in numerous films and television shows since the 1960s.</td>\n",
       "    </tr>\n",
       "    <tr>\n",
       "      <th>1155</th>\n",
       "      <td>Raymond Tallis</td>\n",
       "      <td>human</td>\n",
       "      <td>Raymond Tallis is a human. He is a British philosopher, poet, novelist, and cultural critic. He is also a retired physician and clinical neuroscientist.</td>\n",
       "    </tr>\n",
       "    <tr>\n",
       "      <th>1221</th>\n",
       "      <td>Dev Patel</td>\n",
       "      <td>human</td>\n",
       "      <td>Dev Patel is a human. He is an actor from England who is best known for his roles in the films Slumdog Millionaire, The Best Exotic Marigold Hotel, and Lion.</td>\n",
       "    </tr>\n",
       "    <tr>\n",
       "      <th>1236</th>\n",
       "      <td>Hanna Gronkiewicz-Waltz</td>\n",
       "      <td>human</td>\n",
       "      <td>Hanna Gronkiewicz-Waltz is a human. She is a Polish politician who has served as the President of Warsaw since 2006.</td>\n",
       "    </tr>\n",
       "    <tr>\n",
       "      <th>1484</th>\n",
       "      <td>Ernie Watts</td>\n",
       "      <td>human</td>\n",
       "      <td>Ernie Watts is a human. He is an American jazz and rhythm and blues saxophonist.</td>\n",
       "    </tr>\n",
       "    <tr>\n",
       "      <th>1494</th>\n",
       "      <td>Katheryn Winnick</td>\n",
       "      <td>human</td>\n",
       "      <td>Katheryn Winnick is a human. She is an actress who has appeared in many films and television shows.</td>\n",
       "    </tr>\n",
       "    <tr>\n",
       "      <th>1601</th>\n",
       "      <td>Brian Swimme</td>\n",
       "      <td>human</td>\n",
       "      <td>Brian Swimme is a human. He is an evolutionary cosmologist, author, and professor at the California Institute of Integral Studies. He is best known for his work on the scientific and spiritual implications of the unfolding universe.</td>\n",
       "    </tr>\n",
       "    <tr>\n",
       "      <th>1629</th>\n",
       "      <td>Conrad Tao</td>\n",
       "      <td>human</td>\n",
       "      <td>Conrad Tao is a human. He is a classical pianist, composer, and producer.</td>\n",
       "    </tr>\n",
       "    <tr>\n",
       "      <th>1694</th>\n",
       "      <td>Betsy Markey</td>\n",
       "      <td>human</td>\n",
       "      <td>Betsy Markey is a former U.S. Representative from Colorado's 4th congressional district. She is a human being.</td>\n",
       "    </tr>\n",
       "    <tr>\n",
       "      <th>1808</th>\n",
       "      <td>David Cook</td>\n",
       "      <td>human</td>\n",
       "      <td>David Cook is a human. He is an American singer-songwriter who rose to fame after winning the seventh season of American Idol in 2008.</td>\n",
       "    </tr>\n",
       "    <tr>\n",
       "      <th>1846</th>\n",
       "      <td>Gianna Michaels</td>\n",
       "      <td>human</td>\n",
       "      <td>Gianna Michaels is a human. She is an adult film actress and model.</td>\n",
       "    </tr>\n",
       "    <tr>\n",
       "      <th>1878</th>\n",
       "      <td>Alex Skolnick</td>\n",
       "      <td>human</td>\n",
       "      <td>Alex Skolnick is a human. He is a musician and guitarist best known for his work with the thrash metal band Testament.</td>\n",
       "    </tr>\n",
       "    <tr>\n",
       "      <th>1966</th>\n",
       "      <td>Donna Mills</td>\n",
       "      <td>human</td>\n",
       "      <td>Donna Mills is a human. She is an American actress and producer who has appeared in numerous television shows and films.</td>\n",
       "    </tr>\n",
       "    <tr>\n",
       "      <th>2005</th>\n",
       "      <td>Daphne Rubin-Vega</td>\n",
       "      <td>human</td>\n",
       "      <td>Daphne Rubin-Vega is a human. She is an actress, singer, and songwriter who has appeared in numerous Broadway shows, films, and television series.</td>\n",
       "    </tr>\n",
       "    <tr>\n",
       "      <th>2169</th>\n",
       "      <td>Anubhav Sinha</td>\n",
       "      <td>human</td>\n",
       "      <td>Anubhav Sinha is a human. He is an Indian film director, producer, screenwriter, and lyricist who has directed several critically acclaimed films.</td>\n",
       "    </tr>\n",
       "    <tr>\n",
       "      <th>2354</th>\n",
       "      <td>Gail Tsukiyama</td>\n",
       "      <td>human</td>\n",
       "      <td>Gail Tsukiyama is a human. She is an American author of Japanese descent who has written several novels, including The Samurai's Garden, Dreams of Joy, and Women of the Silk.</td>\n",
       "    </tr>\n",
       "    <tr>\n",
       "      <th>2657</th>\n",
       "      <td>Rickey Henderson</td>\n",
       "      <td>human</td>\n",
       "      <td>Rickey Henderson is a human. He is a former professional baseball player who played for nine teams over the course of his 25-year career. He is widely considered to be one of the greatest base stealers and leadoff hitters in baseball history.</td>\n",
       "    </tr>\n",
       "    <tr>\n",
       "      <th>2759</th>\n",
       "      <td>Anthony Venn-Brown</td>\n",
       "      <td>human</td>\n",
       "      <td>Anthony Venn-Brown is a human. He is an Australian author, speaker, and LGBT rights activist. He is best known for his work in advocating for LGBT rights and for his memoir, A Life of Unlearning: A Journey to Find the Truth.</td>\n",
       "    </tr>\n",
       "    <tr>\n",
       "      <th>2805</th>\n",
       "      <td>Stephanie Zimbalist</td>\n",
       "      <td>human</td>\n",
       "      <td>Stephanie Zimbalist is a human. She is an American actress best known for her role as Laura Holt in the NBC detective series Remington Steele.</td>\n",
       "    </tr>\n",
       "    <tr>\n",
       "      <th>2992</th>\n",
       "      <td>Angus Taylor</td>\n",
       "      <td>human</td>\n",
       "      <td>Angus Taylor is a human. He is an Australian politician who has been the Minister for Energy and Emissions Reduction since August 2018.</td>\n",
       "    </tr>\n",
       "    <tr>\n",
       "      <th>3045</th>\n",
       "      <td>Dennis Chambers</td>\n",
       "      <td>human</td>\n",
       "      <td>Dennis Chambers is a human. He is an American drummer who has played with a variety of artists, including Parliament-Funkadelic, John Scofield, Santana, and Steely Dan.</td>\n",
       "    </tr>\n",
       "    <tr>\n",
       "      <th>3051</th>\n",
       "      <td>Questlove</td>\n",
       "      <td>human</td>\n",
       "      <td>Questlove is a human. He is a musician, producer, and drummer who is best known as the drummer and joint frontman for the Grammy Award-winning band The Roots.</td>\n",
       "    </tr>\n",
       "    <tr>\n",
       "      <th>3111</th>\n",
       "      <td>Chelsea Quinn Yarbro</td>\n",
       "      <td>human</td>\n",
       "      <td>Chelsea Quinn Yarbro is a human. She is an American author of horror, fantasy, and historical fiction.</td>\n",
       "    </tr>\n",
       "    <tr>\n",
       "      <th>3217</th>\n",
       "      <td>Adam Penenberg</td>\n",
       "      <td>human</td>\n",
       "      <td>Adam Penenberg is a human. He is a journalist and professor at New York University's Arthur L. Carter Journalism Institute.</td>\n",
       "    </tr>\n",
       "    <tr>\n",
       "      <th>3222</th>\n",
       "      <td>Terry Childs</td>\n",
       "      <td>human</td>\n",
       "      <td>Terry Childs is a human. He is a former network administrator who was convicted of computer tampering in 2009 after he refused to give up the passwords to the San Francisco city government's computer network.</td>\n",
       "    </tr>\n",
       "    <tr>\n",
       "      <th>3616</th>\n",
       "      <td>Charlie Brooker</td>\n",
       "      <td>human</td>\n",
       "      <td>Charlie Brooker is a human. He is a British television presenter, writer, producer, satirist, and critic. He is best known for his work in the anthology series Black Mirror and his comedic commentary on current affairs.</td>\n",
       "    </tr>\n",
       "    <tr>\n",
       "      <th>3622</th>\n",
       "      <td>Karen Rodriguez</td>\n",
       "      <td>human</td>\n",
       "      <td>Karen Rodriguez is a human. She is a singer and songwriter from New York City who rose to fame after appearing on the eleventh season of American Idol.</td>\n",
       "    </tr>\n",
       "    <tr>\n",
       "      <th>3660</th>\n",
       "      <td>Kevin Schwantz</td>\n",
       "      <td>human</td>\n",
       "      <td>Kevin Schwantz is a human. He is a former professional motorcycle racer who won the 1993 500cc World Championship.</td>\n",
       "    </tr>\n",
       "    <tr>\n",
       "      <th>3800</th>\n",
       "      <td>Qaasim Middleton</td>\n",
       "      <td>human</td>\n",
       "      <td>Qaasim Middleton is a human. He is an actor and musician who is best known for his role as Qaasim on the Nickelodeon television series The Naked Brothers Band.</td>\n",
       "    </tr>\n",
       "    <tr>\n",
       "      <th>3941</th>\n",
       "      <td>Camille Guaty</td>\n",
       "      <td>human</td>\n",
       "      <td>Camille Guaty is a human. She is an actress, singer, and producer who has appeared in numerous films and television shows.</td>\n",
       "    </tr>\n",
       "    <tr>\n",
       "      <th>3955</th>\n",
       "      <td>Bobcat Goldthwait</td>\n",
       "      <td>human</td>\n",
       "      <td>Bobcat Goldthwait is a human. He is an American actor, comedian, screenwriter, and director.</td>\n",
       "    </tr>\n",
       "    <tr>\n",
       "      <th>3961</th>\n",
       "      <td>Simon Helberg</td>\n",
       "      <td>human</td>\n",
       "      <td>Simon Helberg is a human. He is an actor, comedian, and musician best known for his role as Howard Wolowitz on the CBS sitcom The Big Bang Theory.</td>\n",
       "    </tr>\n",
       "    <tr>\n",
       "      <th>3978</th>\n",
       "      <td>Michael A. Goorjian</td>\n",
       "      <td>human</td>\n",
       "      <td>Michael A. Goorjian is a human. He is an actor, director, and producer who has appeared in numerous films and television shows.</td>\n",
       "    </tr>\n",
       "    <tr>\n",
       "      <th>4087</th>\n",
       "      <td>Nectar in a Sieve</td>\n",
       "      <td>literary work</td>\n",
       "      <td>Nectar in a Sieve is a novel written by Kamala Markandaya, so it is a literary work.</td>\n",
       "    </tr>\n",
       "    <tr>\n",
       "      <th>4396</th>\n",
       "      <td>Caillou</td>\n",
       "      <td>television series</td>\n",
       "      <td>Caillou is a television series. It is a Canadian-produced animated series that has been airing since 1997. It is broadcast in many countries around the world, including the United States.</td>\n",
       "    </tr>\n",
       "  </tbody>\n",
       "</table>\n",
       "</div>"
      ],
      "text/plain": [
       "                itemLabel.value   classLabel.value  \\\n",
       "267             Villeroy & Boch           business   \n",
       "331   Batesville Casket Company           business   \n",
       "394                 Loggerheads               film   \n",
       "496                   John Rabe               film   \n",
       "559                  James Shaw              human   \n",
       "578                Neil Sheehan              human   \n",
       "611               Rakesh Satyal              human   \n",
       "666                Keeley Hawes              human   \n",
       "672                 Heidi Baker              human   \n",
       "786                 Saeb Erekat              human   \n",
       "788               Jerome McGann              human   \n",
       "910              Stella Stevens              human   \n",
       "1155             Raymond Tallis              human   \n",
       "1221                  Dev Patel              human   \n",
       "1236    Hanna Gronkiewicz-Waltz              human   \n",
       "1484                Ernie Watts              human   \n",
       "1494           Katheryn Winnick              human   \n",
       "1601               Brian Swimme              human   \n",
       "1629                 Conrad Tao              human   \n",
       "1694               Betsy Markey              human   \n",
       "1808                 David Cook              human   \n",
       "1846            Gianna Michaels              human   \n",
       "1878              Alex Skolnick              human   \n",
       "1966                Donna Mills              human   \n",
       "2005          Daphne Rubin-Vega              human   \n",
       "2169              Anubhav Sinha              human   \n",
       "2354             Gail Tsukiyama              human   \n",
       "2657           Rickey Henderson              human   \n",
       "2759         Anthony Venn-Brown              human   \n",
       "2805        Stephanie Zimbalist              human   \n",
       "2992               Angus Taylor              human   \n",
       "3045            Dennis Chambers              human   \n",
       "3051                  Questlove              human   \n",
       "3111       Chelsea Quinn Yarbro              human   \n",
       "3217             Adam Penenberg              human   \n",
       "3222               Terry Childs              human   \n",
       "3616            Charlie Brooker              human   \n",
       "3622            Karen Rodriguez              human   \n",
       "3660             Kevin Schwantz              human   \n",
       "3800           Qaasim Middleton              human   \n",
       "3941              Camille Guaty              human   \n",
       "3955          Bobcat Goldthwait              human   \n",
       "3961              Simon Helberg              human   \n",
       "3978        Michael A. Goorjian              human   \n",
       "4087          Nectar in a Sieve      literary work   \n",
       "4396                    Caillou  television series   \n",
       "\n",
       "                                                                                                                                                                                                                                                                                                                          false presupposition response  \n",
       "267                                                                                                             Villeroy & Boch is a company that manufactures and sells porcelain, ceramic, and glass products. It is a business, but it is not a publicly traded company, so it does not have shares that can be bought and sold on the stock market.  \n",
       "331                                                           Batesville Casket Company is a business. It is a subsidiary of Hillenbrand, Inc., a publicly traded company that manufactures and distributes funeral services products. The company has been in business since 1884 and is one of the largest casket manufacturers in the United States.  \n",
       "394                                                                                                                                                                                                                                                                                      Loggerheads is a 2005 independent drama film, so it is a film.  \n",
       "496   John Rabe is a real-life figure who is the subject of a 2009 German-Chinese film called \"John Rabe.\" The film is based on the true story of John Rabe, a German businessman who saved the lives of over 200,000 Chinese during the Nanjing Massacre in 1937. While there is a film about John Rabe, there is no film actually titled \"John Rabe.\"  \n",
       "559                                                                                                                                                                                                                              James Shaw is a human. He is a politician from New Zealand who is currently serving as the Minister of Climate Change.  \n",
       "578                                                                                                                                                                                Neil Sheehan is a human. He is an American journalist and author who won the Pulitzer Prize for International Reporting in 1989 for his coverage of the Vietnam War.  \n",
       "611                                                                                                                                                                                                   Rakesh Satyal is a human. He is an American author and editor who has written several books, including Blue Boy and No One Can Pronounce My Name.  \n",
       "666                                                                                                                                                                                                                                             Keeley Hawes is a human. She is an English actress who has appeared in many films and television shows.  \n",
       "672                                                                                                                                                                                                                                    Heidi Baker is a human. She is a missionary and the co-founder of Iris Global, a Christian mission organization.  \n",
       "786                                                                                                                                                                                    Saeb Erekat is a human. He is a Palestinian diplomat and politician who has served as the Secretary General of the Palestine Liberation Organization since 2015.  \n",
       "788                                                                                                                                                                                                      Jerome McGann is a human. He is a professor of English at the University of Virginia and a leading scholar in the field of digital humanities.  \n",
       "910                                                                                                                                                                                                            Stella Stevens is a human. She is an American actress and model who has appeared in numerous films and television shows since the 1960s.  \n",
       "1155                                                                                                                                                                                           Raymond Tallis is a human. He is a British philosopher, poet, novelist, and cultural critic. He is also a retired physician and clinical neuroscientist.  \n",
       "1221                                                                                                                                                                                      Dev Patel is a human. He is an actor from England who is best known for his roles in the films Slumdog Millionaire, The Best Exotic Marigold Hotel, and Lion.  \n",
       "1236                                                                                                                                                                                                                               Hanna Gronkiewicz-Waltz is a human. She is a Polish politician who has served as the President of Warsaw since 2006.  \n",
       "1484                                                                                                                                                                                                                                                                   Ernie Watts is a human. He is an American jazz and rhythm and blues saxophonist.  \n",
       "1494                                                                                                                                                                                                                                                Katheryn Winnick is a human. She is an actress who has appeared in many films and television shows.  \n",
       "1601                                                                                                           Brian Swimme is a human. He is an evolutionary cosmologist, author, and professor at the California Institute of Integral Studies. He is best known for his work on the scientific and spiritual implications of the unfolding universe.  \n",
       "1629                                                                                                                                                                                                                                                                          Conrad Tao is a human. He is a classical pianist, composer, and producer.  \n",
       "1694                                                                                                                                                                                                                                     Betsy Markey is a former U.S. Representative from Colorado's 4th congressional district. She is a human being.  \n",
       "1808                                                                                                                                                                                                             David Cook is a human. He is an American singer-songwriter who rose to fame after winning the seventh season of American Idol in 2008.  \n",
       "1846                                                                                                                                                                                                                                                                                Gianna Michaels is a human. She is an adult film actress and model.  \n",
       "1878                                                                                                                                                                                                                             Alex Skolnick is a human. He is a musician and guitarist best known for his work with the thrash metal band Testament.  \n",
       "1966                                                                                                                                                                                                                           Donna Mills is a human. She is an American actress and producer who has appeared in numerous television shows and films.  \n",
       "2005                                                                                                                                                                                                 Daphne Rubin-Vega is a human. She is an actress, singer, and songwriter who has appeared in numerous Broadway shows, films, and television series.  \n",
       "2169                                                                                                                                                                                                 Anubhav Sinha is a human. He is an Indian film director, producer, screenwriter, and lyricist who has directed several critically acclaimed films.  \n",
       "2354                                                                                                                                                                     Gail Tsukiyama is a human. She is an American author of Japanese descent who has written several novels, including The Samurai's Garden, Dreams of Joy, and Women of the Silk.  \n",
       "2657                                                                                                 Rickey Henderson is a human. He is a former professional baseball player who played for nine teams over the course of his 25-year career. He is widely considered to be one of the greatest base stealers and leadoff hitters in baseball history.  \n",
       "2759                                                                                                                   Anthony Venn-Brown is a human. He is an Australian author, speaker, and LGBT rights activist. He is best known for his work in advocating for LGBT rights and for his memoir, A Life of Unlearning: A Journey to Find the Truth.  \n",
       "2805                                                                                                                                                                                                     Stephanie Zimbalist is a human. She is an American actress best known for her role as Laura Holt in the NBC detective series Remington Steele.  \n",
       "2992                                                                                                                                                                                                            Angus Taylor is a human. He is an Australian politician who has been the Minister for Energy and Emissions Reduction since August 2018.  \n",
       "3045                                                                                                                                                                           Dennis Chambers is a human. He is an American drummer who has played with a variety of artists, including Parliament-Funkadelic, John Scofield, Santana, and Steely Dan.  \n",
       "3051                                                                                                                                                                                     Questlove is a human. He is a musician, producer, and drummer who is best known as the drummer and joint frontman for the Grammy Award-winning band The Roots.  \n",
       "3111                                                                                                                                                                                                                                             Chelsea Quinn Yarbro is a human. She is an American author of horror, fantasy, and historical fiction.  \n",
       "3217                                                                                                                                                                                                                        Adam Penenberg is a human. He is a journalist and professor at New York University's Arthur L. Carter Journalism Institute.  \n",
       "3222                                                                                                                                   Terry Childs is a human. He is a former network administrator who was convicted of computer tampering in 2009 after he refused to give up the passwords to the San Francisco city government's computer network.  \n",
       "3616                                                                                                                        Charlie Brooker is a human. He is a British television presenter, writer, producer, satirist, and critic. He is best known for his work in the anthology series Black Mirror and his comedic commentary on current affairs.  \n",
       "3622                                                                                                                                                                                            Karen Rodriguez is a human. She is a singer and songwriter from New York City who rose to fame after appearing on the eleventh season of American Idol.  \n",
       "3660                                                                                                                                                                                                                                 Kevin Schwantz is a human. He is a former professional motorcycle racer who won the 1993 500cc World Championship.  \n",
       "3800                                                                                                                                                                                    Qaasim Middleton is a human. He is an actor and musician who is best known for his role as Qaasim on the Nickelodeon television series The Naked Brothers Band.  \n",
       "3941                                                                                                                                                                                                                         Camille Guaty is a human. She is an actress, singer, and producer who has appeared in numerous films and television shows.  \n",
       "3955                                                                                                                                                                                                                                                       Bobcat Goldthwait is a human. He is an American actor, comedian, screenwriter, and director.  \n",
       "3961                                                                                                                                                                                                 Simon Helberg is a human. He is an actor, comedian, and musician best known for his role as Howard Wolowitz on the CBS sitcom The Big Bang Theory.  \n",
       "3978                                                                                                                                                                                                                    Michael A. Goorjian is a human. He is an actor, director, and producer who has appeared in numerous films and television shows.  \n",
       "4087                                                                                                                                                                                                                                                               Nectar in a Sieve is a novel written by Kamala Markandaya, so it is a literary work.  \n",
       "4396                                                                                                                                                        Caillou is a television series. It is a Canadian-produced animated series that has been airing since 1997. It is broadcast in many countries around the world, including the United States.  "
      ]
     },
     "execution_count": 337,
     "metadata": {},
     "output_type": "execute_result"
    }
   ],
   "source": [
    "df[(df['refutation3']==True) & (df['acceptance']==False)][['itemLabel.value', 'classLabel.value', 'false presupposition response']]"
   ]
  },
  {
   "cell_type": "code",
   "execution_count": 312,
   "id": "c92c3571",
   "metadata": {},
   "outputs": [
    {
     "data": {
      "text/plain": [
       "Index(['item.value', 'class.value', 'itemLabel.value', 'classLabel.xml:lang',\n",
       "       'classLabel.value', 'set subset question', 'set subset response',\n",
       "       'True or False', 'confidence', 'false presupposition response', 'sents',\n",
       "       'len sents', 'sent_contains_superset', 'sents_containing_superset',\n",
       "       'GUID', 'num sents containing superset', 'refutation', 'refutation2',\n",
       "       'refutation3'],\n",
       "      dtype='object')"
      ]
     },
     "execution_count": 312,
     "metadata": {},
     "output_type": "execute_result"
    }
   ],
   "source": [
    "df.columns"
   ]
  },
  {
   "cell_type": "code",
   "execution_count": null,
   "id": "418cf5c1",
   "metadata": {},
   "outputs": [],
   "source": []
  },
  {
   "cell_type": "code",
   "execution_count": 300,
   "id": "32b09254",
   "metadata": {},
   "outputs": [],
   "source": [
    "text = \"Bobcat Goldthwait is a human. He is an American actor, comedian, screenwriter, and director.\""
   ]
  },
  {
   "cell_type": "code",
   "execution_count": 301,
   "id": "0ea6e94a",
   "metadata": {},
   "outputs": [
    {
     "data": {
      "text/plain": [
       "True"
      ]
     },
     "execution_count": 301,
     "metadata": {},
     "output_type": "execute_result"
    }
   ],
   "source": [
    "presupposition_refutation(text, \"human\")"
   ]
  },
  {
   "cell_type": "code",
   "execution_count": 299,
   "id": "75828945",
   "metadata": {},
   "outputs": [],
   "source": [
    "superset = 'human'\n",
    "re.search(f\"(is (?:an|a) {superset})\", text)"
   ]
  },
  {
   "cell_type": "code",
   "execution_count": null,
   "id": "198eee40",
   "metadata": {},
   "outputs": [],
   "source": []
  },
  {
   "cell_type": "code",
   "execution_count": 269,
   "id": "b67d1442",
   "metadata": {},
   "outputs": [],
   "source": [
    "df[~df['refutation'] | ~df['refutation2']]['false presupposition response'].to_csv(\"false presupposition traige 3.csv\", index=False)"
   ]
  },
  {
   "cell_type": "code",
   "execution_count": null,
   "id": "f3bd51d5",
   "metadata": {},
   "outputs": [],
   "source": []
  },
  {
   "cell_type": "code",
   "execution_count": null,
   "id": "bab74339",
   "metadata": {},
   "outputs": [],
   "source": []
  },
  {
   "cell_type": "code",
   "execution_count": 187,
   "id": "bd3455f2",
   "metadata": {},
   "outputs": [
    {
     "data": {
      "text/plain": [
       "True     4806\n",
       "False     408\n",
       "Name: characterization, dtype: int64"
      ]
     },
     "execution_count": 187,
     "metadata": {},
     "output_type": "execute_result"
    }
   ],
   "source": [
    "df_pivot['characterization'].value_counts()[:25]"
   ]
  },
  {
   "cell_type": "code",
   "execution_count": null,
   "id": "6f8d33c5",
   "metadata": {},
   "outputs": [],
   "source": []
  },
  {
   "cell_type": "code",
   "execution_count": null,
   "id": "e8cb197d",
   "metadata": {},
   "outputs": [],
   "source": []
  },
  {
   "cell_type": "code",
   "execution_count": 182,
   "id": "076509a8",
   "metadata": {},
   "outputs": [
    {
     "data": {
      "text/plain": [
       "0                                                                                                                                                                                                   [It is not an album.]\n",
       "1                                                                  [Vanilla Fudge is a band, not an album., The band released five studio albums between 1967 and 1970, as well as several live albums and compilations.]\n",
       "2                 [Songs in the Key of Beotch is not an album because it is not an official release., It is a compilation of songs by various artists, including the Beastie Boys, that were released on various albums.]\n",
       "3                                                                                                                    [Gettin' That Guac is not an album because it is a single song released by the artist Lil Uzi Vert.]\n",
       "4                                        [Autograph is not an album because it is a single song by the band Shinedown., It was released as a single in 2003 and was later included on the band's 2004 album Us and Them.]\n",
       "                                                                                                              ...                                                                                                        \n",
       "4623                                        [Mochrum is not a village because it is a small hamlet located in the parish of Kirkmaiden, Dumfries and Galloway, Scotland., It is too small to be classified as a village.]\n",
       "4624                                                                                                                              [Ødis-Bramdrup is not a village because it is not an officially recognized settlement.]\n",
       "4625                              [Văleni is not a village because it is a commune, which is a larger administrative division than a village., A commune is typically made up of several villages and other settlements.]\n",
       "4626                                                                                                                 [Bandor-e Sofla is not a village because it is a neighborhood in the city of Bandar-e Anzali, Iran.]\n",
       "4627    [Groß Gaglow is not a village because it is a part of the town of Gaglow, which is located in the state of Brandenburg, Germany., Groß Gaglow is a district of Gaglow, and is not considered a separate village.]\n",
       "Name: sents_containing_superset, Length: 4628, dtype: object"
      ]
     },
     "execution_count": 182,
     "metadata": {},
     "output_type": "execute_result"
    }
   ],
   "source": [
    "df['sents_containing_superset']"
   ]
  },
  {
   "cell_type": "code",
   "execution_count": 189,
   "id": "9f7aa9e7",
   "metadata": {},
   "outputs": [],
   "source": [
    "docs_I_care_about = df_pivot[df_pivot['characterization']==False]['GUID'].tolist()"
   ]
  },
  {
   "cell_type": "code",
   "execution_count": 191,
   "id": "6d4ebea7",
   "metadata": {},
   "outputs": [],
   "source": [
    "df_pivot[df_pivot['GUID'].isin(docs_I_care_about)].to_csv(\"false presupposition triage.csv\", index=False)"
   ]
  },
  {
   "cell_type": "code",
   "execution_count": 192,
   "id": "b066ab81",
   "metadata": {},
   "outputs": [
    {
     "data": {
      "text/html": [
       "<div>\n",
       "<style scoped>\n",
       "    .dataframe tbody tr th:only-of-type {\n",
       "        vertical-align: middle;\n",
       "    }\n",
       "\n",
       "    .dataframe tbody tr th {\n",
       "        vertical-align: top;\n",
       "    }\n",
       "\n",
       "    .dataframe thead th {\n",
       "        text-align: right;\n",
       "    }\n",
       "</style>\n",
       "<table border=\"1\" class=\"dataframe\">\n",
       "  <thead>\n",
       "    <tr style=\"text-align: right;\">\n",
       "      <th></th>\n",
       "      <th>GUID</th>\n",
       "      <th>itemLabel.value</th>\n",
       "      <th>classLabel.value</th>\n",
       "      <th>sents_containing_superset</th>\n",
       "      <th>characterization</th>\n",
       "    </tr>\n",
       "  </thead>\n",
       "  <tbody>\n",
       "    <tr>\n",
       "      <th>0</th>\n",
       "      <td>69e1d725-0c1b-4db1-b869-138d48f2878f</td>\n",
       "      <td>Where the Wild Things Are</td>\n",
       "      <td>album</td>\n",
       "      <td>It is not an album.</td>\n",
       "      <td>True</td>\n",
       "    </tr>\n",
       "    <tr>\n",
       "      <th>1</th>\n",
       "      <td>662fb47f-eecc-4cf4-af96-06b868109221</td>\n",
       "      <td>Vanilla Fudge</td>\n",
       "      <td>album</td>\n",
       "      <td>Vanilla Fudge is a band, not an album.</td>\n",
       "      <td>True</td>\n",
       "    </tr>\n",
       "    <tr>\n",
       "      <th>2</th>\n",
       "      <td>142b2989-2adc-4f8c-a689-646d08dcc8ee</td>\n",
       "      <td>Songs in the Key of Beotch</td>\n",
       "      <td>album</td>\n",
       "      <td>Songs in the Key of Beotch is not an album because it is not an official release.</td>\n",
       "      <td>True</td>\n",
       "    </tr>\n",
       "    <tr>\n",
       "      <th>3</th>\n",
       "      <td>b12f23a3-893c-471c-bd71-60fca34ba3dd</td>\n",
       "      <td>Gettin' That Guac</td>\n",
       "      <td>album</td>\n",
       "      <td>Gettin' That Guac is not an album because it is a single song released by the artist Lil Uzi Vert.</td>\n",
       "      <td>True</td>\n",
       "    </tr>\n",
       "    <tr>\n",
       "      <th>4</th>\n",
       "      <td>d03c00c5-6b0b-494e-9fb6-756bce2c5d14</td>\n",
       "      <td>Autograph</td>\n",
       "      <td>album</td>\n",
       "      <td>Autograph is not an album because it is a single song by the band Shinedown.</td>\n",
       "      <td>True</td>\n",
       "    </tr>\n",
       "    <tr>\n",
       "      <th>...</th>\n",
       "      <td>...</td>\n",
       "      <td>...</td>\n",
       "      <td>...</td>\n",
       "      <td>...</td>\n",
       "      <td>...</td>\n",
       "    </tr>\n",
       "    <tr>\n",
       "      <th>4624</th>\n",
       "      <td>24fe3ffe-07ec-4a3a-89c7-d2a92614ac04</td>\n",
       "      <td>Ødis-Bramdrup</td>\n",
       "      <td>village</td>\n",
       "      <td>Ødis-Bramdrup is not a village because it is not an officially recognized settlement.</td>\n",
       "      <td>True</td>\n",
       "    </tr>\n",
       "    <tr>\n",
       "      <th>4625</th>\n",
       "      <td>c037a523-4365-4435-a87d-da36b95544eb</td>\n",
       "      <td>Văleni</td>\n",
       "      <td>village</td>\n",
       "      <td>Văleni is not a village because it is a commune, which is a larger administrative division than a village.</td>\n",
       "      <td>True</td>\n",
       "    </tr>\n",
       "    <tr>\n",
       "      <th>4626</th>\n",
       "      <td>7a965a76-e80d-4b13-8454-cbc86b01b594</td>\n",
       "      <td>Bandor-e Sofla</td>\n",
       "      <td>village</td>\n",
       "      <td>Bandor-e Sofla is not a village because it is a neighborhood in the city of Bandar-e Anzali, Iran.</td>\n",
       "      <td>True</td>\n",
       "    </tr>\n",
       "    <tr>\n",
       "      <th>4627</th>\n",
       "      <td>fc64216f-7217-4e14-885f-325e53aec9fe</td>\n",
       "      <td>Groß Gaglow</td>\n",
       "      <td>village</td>\n",
       "      <td>Groß Gaglow is not a village because it is a part of the town of Gaglow, which is located in the state of Brandenburg, Germany.</td>\n",
       "      <td>True</td>\n",
       "    </tr>\n",
       "    <tr>\n",
       "      <th>4627</th>\n",
       "      <td>fc64216f-7217-4e14-885f-325e53aec9fe</td>\n",
       "      <td>Groß Gaglow</td>\n",
       "      <td>village</td>\n",
       "      <td>Groß Gaglow is a district of Gaglow, and is not considered a separate village.</td>\n",
       "      <td>True</td>\n",
       "    </tr>\n",
       "  </tbody>\n",
       "</table>\n",
       "<p>4806 rows × 5 columns</p>\n",
       "</div>"
      ],
      "text/plain": [
       "                                      GUID             itemLabel.value  \\\n",
       "0     69e1d725-0c1b-4db1-b869-138d48f2878f   Where the Wild Things Are   \n",
       "1     662fb47f-eecc-4cf4-af96-06b868109221               Vanilla Fudge   \n",
       "2     142b2989-2adc-4f8c-a689-646d08dcc8ee  Songs in the Key of Beotch   \n",
       "3     b12f23a3-893c-471c-bd71-60fca34ba3dd           Gettin' That Guac   \n",
       "4     d03c00c5-6b0b-494e-9fb6-756bce2c5d14                   Autograph   \n",
       "...                                    ...                         ...   \n",
       "4624  24fe3ffe-07ec-4a3a-89c7-d2a92614ac04               Ødis-Bramdrup   \n",
       "4625  c037a523-4365-4435-a87d-da36b95544eb                      Văleni   \n",
       "4626  7a965a76-e80d-4b13-8454-cbc86b01b594              Bandor-e Sofla   \n",
       "4627  fc64216f-7217-4e14-885f-325e53aec9fe                 Groß Gaglow   \n",
       "4627  fc64216f-7217-4e14-885f-325e53aec9fe                 Groß Gaglow   \n",
       "\n",
       "     classLabel.value  \\\n",
       "0               album   \n",
       "1               album   \n",
       "2               album   \n",
       "3               album   \n",
       "4               album   \n",
       "...               ...   \n",
       "4624          village   \n",
       "4625          village   \n",
       "4626          village   \n",
       "4627          village   \n",
       "4627          village   \n",
       "\n",
       "                                                                                                            sents_containing_superset  \\\n",
       "0                                                                                                                 It is not an album.   \n",
       "1                                                                                              Vanilla Fudge is a band, not an album.   \n",
       "2                                                   Songs in the Key of Beotch is not an album because it is not an official release.   \n",
       "3                                  Gettin' That Guac is not an album because it is a single song released by the artist Lil Uzi Vert.   \n",
       "4                                                        Autograph is not an album because it is a single song by the band Shinedown.   \n",
       "...                                                                                                                               ...   \n",
       "4624                                            Ødis-Bramdrup is not a village because it is not an officially recognized settlement.   \n",
       "4625                       Văleni is not a village because it is a commune, which is a larger administrative division than a village.   \n",
       "4626                               Bandor-e Sofla is not a village because it is a neighborhood in the city of Bandar-e Anzali, Iran.   \n",
       "4627  Groß Gaglow is not a village because it is a part of the town of Gaglow, which is located in the state of Brandenburg, Germany.   \n",
       "4627                                                   Groß Gaglow is a district of Gaglow, and is not considered a separate village.   \n",
       "\n",
       "      characterization  \n",
       "0                 True  \n",
       "1                 True  \n",
       "2                 True  \n",
       "3                 True  \n",
       "4                 True  \n",
       "...                ...  \n",
       "4624              True  \n",
       "4625              True  \n",
       "4626              True  \n",
       "4627              True  \n",
       "4627              True  \n",
       "\n",
       "[4806 rows x 5 columns]"
      ]
     },
     "execution_count": 192,
     "metadata": {},
     "output_type": "execute_result"
    }
   ],
   "source": [
    "df_pivot[df_pivot['characterization']==True]"
   ]
  },
  {
   "cell_type": "code",
   "execution_count": null,
   "id": "9b3066f9",
   "metadata": {},
   "outputs": [],
   "source": []
  }
 ],
 "metadata": {
  "kernelspec": {
   "display_name": "nlp_swifter",
   "language": "python",
   "name": "nlp_swifter"
  },
  "language_info": {
   "codemirror_mode": {
    "name": "ipython",
    "version": 3
   },
   "file_extension": ".py",
   "mimetype": "text/x-python",
   "name": "python",
   "nbconvert_exporter": "python",
   "pygments_lexer": "ipython3",
   "version": "3.10.6"
  }
 },
 "nbformat": 4,
 "nbformat_minor": 5
}
