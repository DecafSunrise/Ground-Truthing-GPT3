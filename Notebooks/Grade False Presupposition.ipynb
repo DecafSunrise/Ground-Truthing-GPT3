{
 "cells": [
  {
   "cell_type": "markdown",
   "id": "845eccca",
   "metadata": {},
   "source": [
    "# Work in progress\n",
    "- This is super messy, I'll have to clean it up after work today"
   ]
  },
  {
   "cell_type": "code",
   "execution_count": 238,
   "id": "1128cd2b",
   "metadata": {},
   "outputs": [
    {
     "data": {
      "text/html": [
       "<style>.container { width:100% !important; }</style>"
      ],
      "text/plain": [
       "<IPython.core.display.HTML object>"
      ]
     },
     "metadata": {},
     "output_type": "display_data"
    }
   ],
   "source": [
    "from IPython.display import display, HTML\n",
    "display(HTML(\"<style>.container { width:100% !important; }</style>\"))\n",
    "\n",
    "import re\n",
    "\n",
    "import pandas as pd\n",
    "\n",
    "pd.set_option('max_colwidth', 500)\n",
    "\n",
    "df = pd.read_csv(\"false presupposition.csv\")"
   ]
  },
  {
   "cell_type": "code",
   "execution_count": 339,
   "id": "b6abc1f4",
   "metadata": {},
   "outputs": [],
   "source": [
    "def refutes_presupposition(text, superset):\n",
    "    if re.search(f\"is (?:an|a) {superset}\", text) and not re.search(f\"is not (?:an|a) {superset}\", text):\n",
    "        return True\n",
    "    else:\n",
    "        return False"
   ]
  },
  {
   "cell_type": "code",
   "execution_count": 340,
   "id": "1caeb338",
   "metadata": {},
   "outputs": [],
   "source": [
    "df['refutes presupposition'] = df.apply(lambda x: refutes_presupposition(x['false presupposition response'], x['classLabel.value']), axis=1)"
   ]
  },
  {
   "cell_type": "code",
   "execution_count": 341,
   "id": "0474f728",
   "metadata": {},
   "outputs": [
    {
     "data": {
      "text/plain": [
       "False    4582\n",
       "True       46\n",
       "Name: refutes presupposition, dtype: int64"
      ]
     },
     "execution_count": 341,
     "metadata": {},
     "output_type": "execute_result"
    }
   ],
   "source": [
    "df['refutes presupposition'].value_counts()"
   ]
  },
  {
   "cell_type": "code",
   "execution_count": 343,
   "id": "7db718fd",
   "metadata": {},
   "outputs": [
    {
     "data": {
      "text/html": [
       "<div>\n",
       "<style scoped>\n",
       "    .dataframe tbody tr th:only-of-type {\n",
       "        vertical-align: middle;\n",
       "    }\n",
       "\n",
       "    .dataframe tbody tr th {\n",
       "        vertical-align: top;\n",
       "    }\n",
       "\n",
       "    .dataframe thead th {\n",
       "        text-align: right;\n",
       "    }\n",
       "</style>\n",
       "<table border=\"1\" class=\"dataframe\">\n",
       "  <thead>\n",
       "    <tr style=\"text-align: right;\">\n",
       "      <th></th>\n",
       "      <th>itemLabel.value</th>\n",
       "      <th>classLabel.value</th>\n",
       "      <th>false presupposition response</th>\n",
       "    </tr>\n",
       "  </thead>\n",
       "  <tbody>\n",
       "    <tr>\n",
       "      <th>267</th>\n",
       "      <td>Villeroy &amp; Boch</td>\n",
       "      <td>business</td>\n",
       "      <td>Villeroy &amp; Boch is a company that manufactures and sells porcelain, ceramic, and glass products. It is a business, but it is not a publicly traded company, so it does not have shares that can be bought and sold on the stock market.</td>\n",
       "    </tr>\n",
       "    <tr>\n",
       "      <th>331</th>\n",
       "      <td>Batesville Casket Company</td>\n",
       "      <td>business</td>\n",
       "      <td>Batesville Casket Company is a business. It is a subsidiary of Hillenbrand, Inc., a publicly traded company that manufactures and distributes funeral services products. The company has been in business since 1884 and is one of the largest casket manufacturers in the United States.</td>\n",
       "    </tr>\n",
       "    <tr>\n",
       "      <th>394</th>\n",
       "      <td>Loggerheads</td>\n",
       "      <td>film</td>\n",
       "      <td>Loggerheads is a 2005 independent drama film, so it is a film.</td>\n",
       "    </tr>\n",
       "    <tr>\n",
       "      <th>496</th>\n",
       "      <td>John Rabe</td>\n",
       "      <td>film</td>\n",
       "      <td>John Rabe is a real-life figure who is the subject of a 2009 German-Chinese film called \"John Rabe.\" The film is based on the true story of John Rabe, a German businessman who saved the lives of over 200,000 Chinese during the Nanjing Massacre in 1937. While there is a film about John Rabe, there is no film actually titled \"John Rabe.\"</td>\n",
       "    </tr>\n",
       "    <tr>\n",
       "      <th>559</th>\n",
       "      <td>James Shaw</td>\n",
       "      <td>human</td>\n",
       "      <td>James Shaw is a human. He is a politician from New Zealand who is currently serving as the Minister of Climate Change.</td>\n",
       "    </tr>\n",
       "  </tbody>\n",
       "</table>\n",
       "</div>"
      ],
      "text/plain": [
       "               itemLabel.value classLabel.value  \\\n",
       "267            Villeroy & Boch         business   \n",
       "331  Batesville Casket Company         business   \n",
       "394                Loggerheads             film   \n",
       "496                  John Rabe             film   \n",
       "559                 James Shaw            human   \n",
       "\n",
       "                                                                                                                                                                                                                                                                                                                         false presupposition response  \n",
       "267                                                                                                            Villeroy & Boch is a company that manufactures and sells porcelain, ceramic, and glass products. It is a business, but it is not a publicly traded company, so it does not have shares that can be bought and sold on the stock market.  \n",
       "331                                                          Batesville Casket Company is a business. It is a subsidiary of Hillenbrand, Inc., a publicly traded company that manufactures and distributes funeral services products. The company has been in business since 1884 and is one of the largest casket manufacturers in the United States.  \n",
       "394                                                                                                                                                                                                                                                                                     Loggerheads is a 2005 independent drama film, so it is a film.  \n",
       "496  John Rabe is a real-life figure who is the subject of a 2009 German-Chinese film called \"John Rabe.\" The film is based on the true story of John Rabe, a German businessman who saved the lives of over 200,000 Chinese during the Nanjing Massacre in 1937. While there is a film about John Rabe, there is no film actually titled \"John Rabe.\"  \n",
       "559                                                                                                                                                                                                                             James Shaw is a human. He is a politician from New Zealand who is currently serving as the Minister of Climate Change.  "
      ]
     },
     "execution_count": 343,
     "metadata": {},
     "output_type": "execute_result"
    }
   ],
   "source": [
    "df[df['refutes presupposition']==True][['itemLabel.value', 'classLabel.value', 'false presupposition response']].head()"
   ]
  },
  {
   "cell_type": "code",
   "execution_count": 349,
   "id": "e69001f2",
   "metadata": {},
   "outputs": [],
   "source": [
    "df.to_csv(r\"../Data/False Presupposition (Graded, no question baked in).csv\", index=False)"
   ]
  },
  {
   "cell_type": "code",
   "execution_count": null,
   "id": "1cd408f2",
   "metadata": {},
   "outputs": [],
   "source": []
  }
 ],
 "metadata": {
  "kernelspec": {
   "display_name": "nlp_swifter",
   "language": "python",
   "name": "nlp_swifter"
  },
  "language_info": {
   "codemirror_mode": {
    "name": "ipython",
    "version": 3
   },
   "file_extension": ".py",
   "mimetype": "text/x-python",
   "name": "python",
   "nbconvert_exporter": "python",
   "pygments_lexer": "ipython3",
   "version": "3.10.6"
  }
 },
 "nbformat": 4,
 "nbformat_minor": 5
}
