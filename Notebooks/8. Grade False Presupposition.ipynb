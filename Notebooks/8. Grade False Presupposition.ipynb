{
 "cells": [
  {
   "cell_type": "markdown",
   "id": "1010fbb2",
   "metadata": {},
   "source": [
    "# Grade False Presupposition Questions\n",
    "- Identify the failure modes of the false presupposition questions. \n",
    "- Did GPT3.5 refute the false presupposition? \n",
    "- Did it riff off of the misleading prompt?"
   ]
  },
  {
   "cell_type": "markdown",
   "id": "404456ba",
   "metadata": {},
   "source": [
    "-----\n",
    "### Imports"
   ]
  },
  {
   "cell_type": "code",
   "execution_count": 360,
   "id": "f454a0b7",
   "metadata": {},
   "outputs": [
    {
     "data": {
      "text/html": [
       "<style>.container { width:100% !important; }</style>"
      ],
      "text/plain": [
       "<IPython.core.display.HTML object>"
      ]
     },
     "metadata": {},
     "output_type": "display_data"
    }
   ],
   "source": [
    "## Widescreen the jupyter notebook (helpful for reading verbose printouts in Pandas)\n",
    "from IPython.display import display, HTML\n",
    "display(HTML(\"<style>.container { width:100% !important; }</style>\"))\n",
    "\n",
    "import re\n",
    "import pandas as pd\n",
    "pd.set_option('max_colwidth', 500)"
   ]
  },
  {
   "cell_type": "markdown",
   "id": "8096ab49",
   "metadata": {},
   "source": [
    "### Define Functions"
   ]
  },
  {
   "cell_type": "code",
   "execution_count": 339,
   "id": "f427200f",
   "metadata": {},
   "outputs": [],
   "source": [
    "def refutes_presupposition(text, superset):\n",
    "    \"\"\"\n",
    "    Simple regex-based validation to check if:\n",
    "    - The response includes x \"is a {superset}\", and\n",
    "    - does NOT say \"is not a {superset}\"\n",
    "    \n",
    "    If those two criteria are met, we can say with high confidence (backed by manual review) \n",
    "    that the model refuted the False Presupposition question.\n",
    "    \"\"\"\n",
    "    if re.search(f\"is (?:an|a) {superset}\", text) and not re.search(f\"is not (?:an|a) {superset}\", text):\n",
    "        return True\n",
    "    else:\n",
    "        return False"
   ]
  },
  {
   "cell_type": "markdown",
   "id": "a51c7d55",
   "metadata": {},
   "source": [
    "### Read dataset"
   ]
  },
  {
   "cell_type": "code",
   "execution_count": 361,
   "id": "b792ca48",
   "metadata": {},
   "outputs": [],
   "source": [
    "df = pd.read_csv(\"../Data/False Presupposition (Ungraded, Questions baked in).csv\")"
   ]
  },
  {
   "cell_type": "markdown",
   "id": "13bac89f",
   "metadata": {},
   "source": [
    "### Apply the grading logic"
   ]
  },
  {
   "cell_type": "code",
   "execution_count": 340,
   "id": "c860c1d2",
   "metadata": {},
   "outputs": [],
   "source": [
    "df['refutes presupposition'] = df.apply(lambda x: refutes_presupposition(x['false presupposition response'], x['classLabel.value']), axis=1)"
   ]
  },
  {
   "cell_type": "markdown",
   "id": "b3a2d8b8",
   "metadata": {},
   "source": [
    "### View the split"
   ]
  },
  {
   "cell_type": "code",
   "execution_count": 341,
   "id": "e480b1b9",
   "metadata": {},
   "outputs": [
    {
     "data": {
      "text/plain": [
       "False    4582\n",
       "True       46\n",
       "Name: refutes presupposition, dtype: int64"
      ]
     },
     "execution_count": 341,
     "metadata": {},
     "output_type": "execute_result"
    }
   ],
   "source": [
    "df['refutes presupposition'].value_counts()"
   ]
  },
  {
   "cell_type": "markdown",
   "id": "ca1523c3",
   "metadata": {},
   "source": [
    "### Manually confirm that this is working as expected\n",
    "- We manually reviewed the responses before coming up with this clean logic to suss out refutations of the false presupposition."
   ]
  },
  {
   "cell_type": "code",
   "execution_count": 343,
   "id": "001c06ef",
   "metadata": {},
   "outputs": [
    {
     "data": {
      "text/html": [
       "<div>\n",
       "<style scoped>\n",
       "    .dataframe tbody tr th:only-of-type {\n",
       "        vertical-align: middle;\n",
       "    }\n",
       "\n",
       "    .dataframe tbody tr th {\n",
       "        vertical-align: top;\n",
       "    }\n",
       "\n",
       "    .dataframe thead th {\n",
       "        text-align: right;\n",
       "    }\n",
       "</style>\n",
       "<table border=\"1\" class=\"dataframe\">\n",
       "  <thead>\n",
       "    <tr style=\"text-align: right;\">\n",
       "      <th></th>\n",
       "      <th>itemLabel.value</th>\n",
       "      <th>classLabel.value</th>\n",
       "      <th>false presupposition response</th>\n",
       "    </tr>\n",
       "  </thead>\n",
       "  <tbody>\n",
       "    <tr>\n",
       "      <th>267</th>\n",
       "      <td>Villeroy &amp; Boch</td>\n",
       "      <td>business</td>\n",
       "      <td>Villeroy &amp; Boch is a company that manufactures and sells porcelain, ceramic, and glass products. It is a business, but it is not a publicly traded company, so it does not have shares that can be bought and sold on the stock market.</td>\n",
       "    </tr>\n",
       "    <tr>\n",
       "      <th>331</th>\n",
       "      <td>Batesville Casket Company</td>\n",
       "      <td>business</td>\n",
       "      <td>Batesville Casket Company is a business. It is a subsidiary of Hillenbrand, Inc., a publicly traded company that manufactures and distributes funeral services products. The company has been in business since 1884 and is one of the largest casket manufacturers in the United States.</td>\n",
       "    </tr>\n",
       "    <tr>\n",
       "      <th>394</th>\n",
       "      <td>Loggerheads</td>\n",
       "      <td>film</td>\n",
       "      <td>Loggerheads is a 2005 independent drama film, so it is a film.</td>\n",
       "    </tr>\n",
       "    <tr>\n",
       "      <th>496</th>\n",
       "      <td>John Rabe</td>\n",
       "      <td>film</td>\n",
       "      <td>John Rabe is a real-life figure who is the subject of a 2009 German-Chinese film called \"John Rabe.\" The film is based on the true story of John Rabe, a German businessman who saved the lives of over 200,000 Chinese during the Nanjing Massacre in 1937. While there is a film about John Rabe, there is no film actually titled \"John Rabe.\"</td>\n",
       "    </tr>\n",
       "    <tr>\n",
       "      <th>559</th>\n",
       "      <td>James Shaw</td>\n",
       "      <td>human</td>\n",
       "      <td>James Shaw is a human. He is a politician from New Zealand who is currently serving as the Minister of Climate Change.</td>\n",
       "    </tr>\n",
       "  </tbody>\n",
       "</table>\n",
       "</div>"
      ],
      "text/plain": [
       "               itemLabel.value classLabel.value  \\\n",
       "267            Villeroy & Boch         business   \n",
       "331  Batesville Casket Company         business   \n",
       "394                Loggerheads             film   \n",
       "496                  John Rabe             film   \n",
       "559                 James Shaw            human   \n",
       "\n",
       "                                                                                                                                                                                                                                                                                                                         false presupposition response  \n",
       "267                                                                                                            Villeroy & Boch is a company that manufactures and sells porcelain, ceramic, and glass products. It is a business, but it is not a publicly traded company, so it does not have shares that can be bought and sold on the stock market.  \n",
       "331                                                          Batesville Casket Company is a business. It is a subsidiary of Hillenbrand, Inc., a publicly traded company that manufactures and distributes funeral services products. The company has been in business since 1884 and is one of the largest casket manufacturers in the United States.  \n",
       "394                                                                                                                                                                                                                                                                                     Loggerheads is a 2005 independent drama film, so it is a film.  \n",
       "496  John Rabe is a real-life figure who is the subject of a 2009 German-Chinese film called \"John Rabe.\" The film is based on the true story of John Rabe, a German businessman who saved the lives of over 200,000 Chinese during the Nanjing Massacre in 1937. While there is a film about John Rabe, there is no film actually titled \"John Rabe.\"  \n",
       "559                                                                                                                                                                                                                             James Shaw is a human. He is a politician from New Zealand who is currently serving as the Minister of Climate Change.  "
      ]
     },
     "execution_count": 343,
     "metadata": {},
     "output_type": "execute_result"
    }
   ],
   "source": [
    "df[df['refutes presupposition']==True][['itemLabel.value', 'classLabel.value', 'false presupposition response']].head()"
   ]
  },
  {
   "cell_type": "markdown",
   "id": "bdaa66b0",
   "metadata": {},
   "source": [
    "### Save output"
   ]
  },
  {
   "cell_type": "code",
   "execution_count": 359,
   "id": "9ef35c3f",
   "metadata": {},
   "outputs": [],
   "source": [
    "df.to_csv(r\"../Data/False Presupposition (Graded, questions baked in).csv\", index=False)"
   ]
  }
 ],
 "metadata": {
  "kernelspec": {
   "display_name": "nlp_swifter",
   "language": "python",
   "name": "nlp_swifter"
  },
  "language_info": {
   "codemirror_mode": {
    "name": "ipython",
    "version": 3
   },
   "file_extension": ".py",
   "mimetype": "text/x-python",
   "name": "python",
   "nbconvert_exporter": "python",
   "pygments_lexer": "ipython3",
   "version": "3.10.6"
  }
 },
 "nbformat": 4,
 "nbformat_minor": 5
}
