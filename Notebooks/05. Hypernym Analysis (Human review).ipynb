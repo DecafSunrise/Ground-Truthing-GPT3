{
 "cells": [
  {
   "cell_type": "markdown",
   "metadata": {},
   "source": [
    "# Join hand annotated Hypernym failure modes docs"
   ]
  },
  {
   "cell_type": "markdown",
   "metadata": {},
   "source": [
    "### Imports & load files"
   ]
  },
  {
   "cell_type": "code",
   "execution_count": null,
   "metadata": {
    "id": "Tjva_MJyl-Fx"
   },
   "outputs": [],
   "source": [
    "import pandas as pd"
   ]
  },
  {
   "cell_type": "code",
   "execution_count": null,
   "metadata": {
    "id": "TOeeBlPqouME"
   },
   "outputs": [],
   "source": [
    "df_scott = pd.read_csv('last_samples_to_code_stc.csv')\n",
    "df_danny = pd.read_csv('last_samples_to_code - Danny (Complete).csv')\n",
    "df_rich = pd.read_csv('last_samples_to_code - Rich (Complete).csv')\n",
    "df_tv = pd.read_csv('df_tv_sample_v2.csv')\n",
    "df_music = pd.read_csv('df_music_sample_v2.csv')\n",
    "df_film = pd.read_csv('df_film_sample_v2.csv')\n",
    "df_album = pd.read_csv('df_album_sample_v2.csv')"
   ]
  },
  {
   "cell_type": "markdown",
   "metadata": {},
   "source": [
    "### Clean up inputs"
   ]
  },
  {
   "cell_type": "code",
   "execution_count": null,
   "metadata": {
    "colab": {
     "base_uri": "https://localhost:8080/"
    },
    "id": "yGlpJFOcT_pD",
    "outputId": "a630d2ab-55c2-4afc-e2d3-164d205877b8"
   },
   "outputs": [],
   "source": [
    "df_danny = df_danny[df_danny['assignee']=='danny']\n",
    "df_danny.drop('Unnamed: 12', inplace=True, axis=1)\n",
    "df_danny.drop('Unnamed: 13', inplace=True, axis=1)"
   ]
  },
  {
   "cell_type": "code",
   "execution_count": null,
   "metadata": {
    "colab": {
     "base_uri": "https://localhost:8080/",
     "height": 826
    },
    "id": "pXKEp3MtUGH6",
    "outputId": "343a157f-a2a8-4ee6-8d61-7edc0b90d41b"
   },
   "outputs": [],
   "source": [
    "df_rich.drop('Unnamed: 0.1', inplace=True, axis=1)\n",
    "df_rich = df_rich[df_rich['assignee']=='rich']"
   ]
  },
  {
   "cell_type": "code",
   "execution_count": null,
   "metadata": {
    "id": "vKGvqaVeYR-6"
   },
   "outputs": [],
   "source": [
    "df_complete = pd.concat([df_scott, df_danny, df_rich, df_tv, df_film, df_music, df_album], axis=0)"
   ]
  },
  {
   "cell_type": "code",
   "execution_count": null,
   "metadata": {
    "id": "hse8_iiYr4TD"
   },
   "outputs": [],
   "source": [
    "df_complete.reset_index(drop=True, inplace=True)"
   ]
  },
  {
   "cell_type": "code",
   "execution_count": null,
   "metadata": {
    "id": "7EzQ0Lg_TNIl"
   },
   "outputs": [],
   "source": [
    "# down sample the human data points so that we have just 10% of errors included in the final results\n",
    "\n",
    "df_human_resample = df_complete[df_complete['classLabel.value']=='human'].sample(n=399)"
   ]
  },
  {
   "cell_type": "code",
   "execution_count": null,
   "metadata": {
    "id": "m5_QhLN2pYwF"
   },
   "outputs": [],
   "source": [
    "human_index = df_complete[df_complete['classLabel.value']=='human'].index.values"
   ]
  },
  {
   "cell_type": "code",
   "execution_count": null,
   "metadata": {
    "id": "XVt9O8ayqt7H"
   },
   "outputs": [],
   "source": [
    "df_complete.drop(labels=human_index, axis=0, inplace=True)"
   ]
  },
  {
   "cell_type": "code",
   "execution_count": null,
   "metadata": {
    "id": "44zcYq4Yq2Ef"
   },
   "outputs": [],
   "source": [
    "df_complete = pd.concat([df_complete, df_human_resample], axis=0)"
   ]
  },
  {
   "cell_type": "markdown",
   "metadata": {},
   "source": [
    "### Build pivot tables for analysis"
   ]
  },
  {
   "cell_type": "code",
   "execution_count": null,
   "metadata": {
    "colab": {
     "base_uri": "https://localhost:8080/",
     "height": 394
    },
    "id": "QQOjbCkcju-V",
    "outputId": "bede26e3-8aff-4142-fa92-ad94d3eeb453"
   },
   "outputs": [],
   "source": [
    "cats_pivot = df_complete.pivot_table(values='classLabel.xml:lang', columns=['classLabel.value'], aggfunc='count')\n",
    "cats_pivot = cats_pivot.transpose()"
   ]
  },
  {
   "cell_type": "code",
   "execution_count": null,
   "metadata": {
    "colab": {
     "base_uri": "https://localhost:8080/"
    },
    "id": "r7AxcKQTgZb-",
    "outputId": "7272e92f-e667-467f-90f8-d418542a9116"
   },
   "outputs": [],
   "source": [
    "complete_pivot = df_complete.pivot_table(values='classLabel.xml:lang', columns=['classLabel.value','error_category'], aggfunc='count')\n",
    "complete_pivot = complete_pivot.transpose()\n",
    "\n",
    "complete_pivot.reset_index(drop=False, inplace=True)\n",
    "\n",
    "percents = list()\n",
    "for cat in cats_pivot.index:\n",
    "    col = complete_pivot[complete_pivot['classLabel.value'] == cat]['classLabel.xml:lang']\n",
    "    percents.extend((col / col.sum()).values)\n",
    "\n",
    "complete_pivot['percent'] = percents"
   ]
  },
  {
   "cell_type": "markdown",
   "metadata": {},
   "source": [
    "### Review pivot"
   ]
  },
  {
   "cell_type": "code",
   "execution_count": null,
   "metadata": {
    "colab": {
     "base_uri": "https://localhost:8080/",
     "height": 1000
    },
    "id": "uIFjQkCIgyIS",
    "outputId": "a880c353-feca-48e6-e41b-0e3f0b41253d"
   },
   "outputs": [
    {
     "data": {
      "text/html": [
       "\n",
       "  <div id=\"df-bc8f556f-097d-4e2a-b6ce-2e24c9444729\">\n",
       "    <div class=\"colab-df-container\">\n",
       "      <div>\n",
       "<style scoped>\n",
       "    .dataframe tbody tr th:only-of-type {\n",
       "        vertical-align: middle;\n",
       "    }\n",
       "\n",
       "    .dataframe tbody tr th {\n",
       "        vertical-align: top;\n",
       "    }\n",
       "\n",
       "    .dataframe thead th {\n",
       "        text-align: right;\n",
       "    }\n",
       "</style>\n",
       "<table border=\"1\" class=\"dataframe\">\n",
       "  <thead>\n",
       "    <tr style=\"text-align: right;\">\n",
       "      <th></th>\n",
       "      <th>classLabel.value</th>\n",
       "      <th>error_category</th>\n",
       "      <th>classLabel.xml:lang</th>\n",
       "      <th>percent</th>\n",
       "    </tr>\n",
       "  </thead>\n",
       "  <tbody>\n",
       "    <tr>\n",
       "      <th>0</th>\n",
       "      <td>album</td>\n",
       "      <td>conflation</td>\n",
       "      <td>193</td>\n",
       "      <td>0.835498</td>\n",
       "    </tr>\n",
       "    <tr>\n",
       "      <th>1</th>\n",
       "      <td>album</td>\n",
       "      <td>denial</td>\n",
       "      <td>5</td>\n",
       "      <td>0.021645</td>\n",
       "    </tr>\n",
       "    <tr>\n",
       "      <th>2</th>\n",
       "      <td>album</td>\n",
       "      <td>phrase</td>\n",
       "      <td>7</td>\n",
       "      <td>0.030303</td>\n",
       "    </tr>\n",
       "    <tr>\n",
       "      <th>3</th>\n",
       "      <td>album</td>\n",
       "      <td>specification</td>\n",
       "      <td>26</td>\n",
       "      <td>0.112554</td>\n",
       "    </tr>\n",
       "    <tr>\n",
       "      <th>4</th>\n",
       "      <td>business</td>\n",
       "      <td>conflation</td>\n",
       "      <td>11</td>\n",
       "      <td>0.255814</td>\n",
       "    </tr>\n",
       "    <tr>\n",
       "      <th>5</th>\n",
       "      <td>business</td>\n",
       "      <td>specification</td>\n",
       "      <td>32</td>\n",
       "      <td>0.744186</td>\n",
       "    </tr>\n",
       "    <tr>\n",
       "      <th>6</th>\n",
       "      <td>film</td>\n",
       "      <td>conflation</td>\n",
       "      <td>120</td>\n",
       "      <td>0.779221</td>\n",
       "    </tr>\n",
       "    <tr>\n",
       "      <th>7</th>\n",
       "      <td>film</td>\n",
       "      <td>denial</td>\n",
       "      <td>3</td>\n",
       "      <td>0.019481</td>\n",
       "    </tr>\n",
       "    <tr>\n",
       "      <th>8</th>\n",
       "      <td>film</td>\n",
       "      <td>phrase</td>\n",
       "      <td>4</td>\n",
       "      <td>0.025974</td>\n",
       "    </tr>\n",
       "    <tr>\n",
       "      <th>9</th>\n",
       "      <td>film</td>\n",
       "      <td>specification</td>\n",
       "      <td>27</td>\n",
       "      <td>0.175325</td>\n",
       "    </tr>\n",
       "    <tr>\n",
       "      <th>10</th>\n",
       "      <td>human</td>\n",
       "      <td>conflation</td>\n",
       "      <td>121</td>\n",
       "      <td>0.303258</td>\n",
       "    </tr>\n",
       "    <tr>\n",
       "      <th>11</th>\n",
       "      <td>human</td>\n",
       "      <td>denial</td>\n",
       "      <td>4</td>\n",
       "      <td>0.010025</td>\n",
       "    </tr>\n",
       "    <tr>\n",
       "      <th>12</th>\n",
       "      <td>human</td>\n",
       "      <td>phrase</td>\n",
       "      <td>3</td>\n",
       "      <td>0.007519</td>\n",
       "    </tr>\n",
       "    <tr>\n",
       "      <th>13</th>\n",
       "      <td>human</td>\n",
       "      <td>specification</td>\n",
       "      <td>271</td>\n",
       "      <td>0.679198</td>\n",
       "    </tr>\n",
       "    <tr>\n",
       "      <th>14</th>\n",
       "      <td>literary work</td>\n",
       "      <td>conflation</td>\n",
       "      <td>29</td>\n",
       "      <td>0.483333</td>\n",
       "    </tr>\n",
       "    <tr>\n",
       "      <th>15</th>\n",
       "      <td>literary work</td>\n",
       "      <td>specification</td>\n",
       "      <td>31</td>\n",
       "      <td>0.516667</td>\n",
       "    </tr>\n",
       "    <tr>\n",
       "      <th>16</th>\n",
       "      <td>mountain</td>\n",
       "      <td>conflation</td>\n",
       "      <td>16</td>\n",
       "      <td>0.516129</td>\n",
       "    </tr>\n",
       "    <tr>\n",
       "      <th>17</th>\n",
       "      <td>mountain</td>\n",
       "      <td>denial</td>\n",
       "      <td>3</td>\n",
       "      <td>0.096774</td>\n",
       "    </tr>\n",
       "    <tr>\n",
       "      <th>18</th>\n",
       "      <td>mountain</td>\n",
       "      <td>specification</td>\n",
       "      <td>12</td>\n",
       "      <td>0.387097</td>\n",
       "    </tr>\n",
       "    <tr>\n",
       "      <th>19</th>\n",
       "      <td>musical group</td>\n",
       "      <td>conflation</td>\n",
       "      <td>41</td>\n",
       "      <td>0.569444</td>\n",
       "    </tr>\n",
       "    <tr>\n",
       "      <th>20</th>\n",
       "      <td>musical group</td>\n",
       "      <td>denial</td>\n",
       "      <td>10</td>\n",
       "      <td>0.138889</td>\n",
       "    </tr>\n",
       "    <tr>\n",
       "      <th>21</th>\n",
       "      <td>musical group</td>\n",
       "      <td>phrase</td>\n",
       "      <td>1</td>\n",
       "      <td>0.013889</td>\n",
       "    </tr>\n",
       "    <tr>\n",
       "      <th>22</th>\n",
       "      <td>musical group</td>\n",
       "      <td>specification</td>\n",
       "      <td>20</td>\n",
       "      <td>0.277778</td>\n",
       "    </tr>\n",
       "    <tr>\n",
       "      <th>23</th>\n",
       "      <td>river</td>\n",
       "      <td>conflation</td>\n",
       "      <td>62</td>\n",
       "      <td>0.885714</td>\n",
       "    </tr>\n",
       "    <tr>\n",
       "      <th>24</th>\n",
       "      <td>river</td>\n",
       "      <td>denial</td>\n",
       "      <td>1</td>\n",
       "      <td>0.014286</td>\n",
       "    </tr>\n",
       "    <tr>\n",
       "      <th>25</th>\n",
       "      <td>river</td>\n",
       "      <td>specification</td>\n",
       "      <td>7</td>\n",
       "      <td>0.100000</td>\n",
       "    </tr>\n",
       "    <tr>\n",
       "      <th>26</th>\n",
       "      <td>television series</td>\n",
       "      <td>conflation</td>\n",
       "      <td>24</td>\n",
       "      <td>0.600000</td>\n",
       "    </tr>\n",
       "    <tr>\n",
       "      <th>27</th>\n",
       "      <td>television series</td>\n",
       "      <td>denial</td>\n",
       "      <td>4</td>\n",
       "      <td>0.100000</td>\n",
       "    </tr>\n",
       "    <tr>\n",
       "      <th>28</th>\n",
       "      <td>television series</td>\n",
       "      <td>phrase</td>\n",
       "      <td>1</td>\n",
       "      <td>0.025000</td>\n",
       "    </tr>\n",
       "    <tr>\n",
       "      <th>29</th>\n",
       "      <td>television series</td>\n",
       "      <td>specification</td>\n",
       "      <td>11</td>\n",
       "      <td>0.275000</td>\n",
       "    </tr>\n",
       "    <tr>\n",
       "      <th>30</th>\n",
       "      <td>village</td>\n",
       "      <td>conflation</td>\n",
       "      <td>51</td>\n",
       "      <td>0.291429</td>\n",
       "    </tr>\n",
       "    <tr>\n",
       "      <th>31</th>\n",
       "      <td>village</td>\n",
       "      <td>denial</td>\n",
       "      <td>20</td>\n",
       "      <td>0.114286</td>\n",
       "    </tr>\n",
       "    <tr>\n",
       "      <th>32</th>\n",
       "      <td>village</td>\n",
       "      <td>specification</td>\n",
       "      <td>104</td>\n",
       "      <td>0.594286</td>\n",
       "    </tr>\n",
       "  </tbody>\n",
       "</table>\n",
       "</div>\n",
       "      <button class=\"colab-df-convert\" onclick=\"convertToInteractive('df-bc8f556f-097d-4e2a-b6ce-2e24c9444729')\"\n",
       "              title=\"Convert this dataframe to an interactive table.\"\n",
       "              style=\"display:none;\">\n",
       "        \n",
       "  <svg xmlns=\"http://www.w3.org/2000/svg\" height=\"24px\"viewBox=\"0 0 24 24\"\n",
       "       width=\"24px\">\n",
       "    <path d=\"M0 0h24v24H0V0z\" fill=\"none\"/>\n",
       "    <path d=\"M18.56 5.44l.94 2.06.94-2.06 2.06-.94-2.06-.94-.94-2.06-.94 2.06-2.06.94zm-11 1L8.5 8.5l.94-2.06 2.06-.94-2.06-.94L8.5 2.5l-.94 2.06-2.06.94zm10 10l.94 2.06.94-2.06 2.06-.94-2.06-.94-.94-2.06-.94 2.06-2.06.94z\"/><path d=\"M17.41 7.96l-1.37-1.37c-.4-.4-.92-.59-1.43-.59-.52 0-1.04.2-1.43.59L10.3 9.45l-7.72 7.72c-.78.78-.78 2.05 0 2.83L4 21.41c.39.39.9.59 1.41.59.51 0 1.02-.2 1.41-.59l7.78-7.78 2.81-2.81c.8-.78.8-2.07 0-2.86zM5.41 20L4 18.59l7.72-7.72 1.47 1.35L5.41 20z\"/>\n",
       "  </svg>\n",
       "      </button>\n",
       "      \n",
       "  <style>\n",
       "    .colab-df-container {\n",
       "      display:flex;\n",
       "      flex-wrap:wrap;\n",
       "      gap: 12px;\n",
       "    }\n",
       "\n",
       "    .colab-df-convert {\n",
       "      background-color: #E8F0FE;\n",
       "      border: none;\n",
       "      border-radius: 50%;\n",
       "      cursor: pointer;\n",
       "      display: none;\n",
       "      fill: #1967D2;\n",
       "      height: 32px;\n",
       "      padding: 0 0 0 0;\n",
       "      width: 32px;\n",
       "    }\n",
       "\n",
       "    .colab-df-convert:hover {\n",
       "      background-color: #E2EBFA;\n",
       "      box-shadow: 0px 1px 2px rgba(60, 64, 67, 0.3), 0px 1px 3px 1px rgba(60, 64, 67, 0.15);\n",
       "      fill: #174EA6;\n",
       "    }\n",
       "\n",
       "    [theme=dark] .colab-df-convert {\n",
       "      background-color: #3B4455;\n",
       "      fill: #D2E3FC;\n",
       "    }\n",
       "\n",
       "    [theme=dark] .colab-df-convert:hover {\n",
       "      background-color: #434B5C;\n",
       "      box-shadow: 0px 1px 3px 1px rgba(0, 0, 0, 0.15);\n",
       "      filter: drop-shadow(0px 1px 2px rgba(0, 0, 0, 0.3));\n",
       "      fill: #FFFFFF;\n",
       "    }\n",
       "  </style>\n",
       "\n",
       "      <script>\n",
       "        const buttonEl =\n",
       "          document.querySelector('#df-bc8f556f-097d-4e2a-b6ce-2e24c9444729 button.colab-df-convert');\n",
       "        buttonEl.style.display =\n",
       "          google.colab.kernel.accessAllowed ? 'block' : 'none';\n",
       "\n",
       "        async function convertToInteractive(key) {\n",
       "          const element = document.querySelector('#df-bc8f556f-097d-4e2a-b6ce-2e24c9444729');\n",
       "          const dataTable =\n",
       "            await google.colab.kernel.invokeFunction('convertToInteractive',\n",
       "                                                     [key], {});\n",
       "          if (!dataTable) return;\n",
       "\n",
       "          const docLinkHtml = 'Like what you see? Visit the ' +\n",
       "            '<a target=\"_blank\" href=https://colab.research.google.com/notebooks/data_table.ipynb>data table notebook</a>'\n",
       "            + ' to learn more about interactive tables.';\n",
       "          element.innerHTML = '';\n",
       "          dataTable['output_type'] = 'display_data';\n",
       "          await google.colab.output.renderOutput(dataTable, element);\n",
       "          const docLink = document.createElement('div');\n",
       "          docLink.innerHTML = docLinkHtml;\n",
       "          element.appendChild(docLink);\n",
       "        }\n",
       "      </script>\n",
       "    </div>\n",
       "  </div>\n",
       "  "
      ],
      "text/plain": [
       "     classLabel.value error_category  classLabel.xml:lang   percent\n",
       "0               album     conflation                  193  0.835498\n",
       "1               album         denial                    5  0.021645\n",
       "2               album         phrase                    7  0.030303\n",
       "3               album  specification                   26  0.112554\n",
       "4            business     conflation                   11  0.255814\n",
       "5            business  specification                   32  0.744186\n",
       "6                film     conflation                  120  0.779221\n",
       "7                film         denial                    3  0.019481\n",
       "8                film         phrase                    4  0.025974\n",
       "9                film  specification                   27  0.175325\n",
       "10              human     conflation                  121  0.303258\n",
       "11              human         denial                    4  0.010025\n",
       "12              human         phrase                    3  0.007519\n",
       "13              human  specification                  271  0.679198\n",
       "14      literary work     conflation                   29  0.483333\n",
       "15      literary work  specification                   31  0.516667\n",
       "16           mountain     conflation                   16  0.516129\n",
       "17           mountain         denial                    3  0.096774\n",
       "18           mountain  specification                   12  0.387097\n",
       "19      musical group     conflation                   41  0.569444\n",
       "20      musical group         denial                   10  0.138889\n",
       "21      musical group         phrase                    1  0.013889\n",
       "22      musical group  specification                   20  0.277778\n",
       "23              river     conflation                   62  0.885714\n",
       "24              river         denial                    1  0.014286\n",
       "25              river  specification                    7  0.100000\n",
       "26  television series     conflation                   24  0.600000\n",
       "27  television series         denial                    4  0.100000\n",
       "28  television series         phrase                    1  0.025000\n",
       "29  television series  specification                   11  0.275000\n",
       "30            village     conflation                   51  0.291429\n",
       "31            village         denial                   20  0.114286\n",
       "32            village  specification                  104  0.594286"
      ]
     },
     "execution_count": 54,
     "metadata": {},
     "output_type": "execute_result"
    }
   ],
   "source": [
    "complete_pivot"
   ]
  },
  {
   "cell_type": "markdown",
   "metadata": {},
   "source": [
    "### Save results"
   ]
  },
  {
   "cell_type": "code",
   "execution_count": null,
   "metadata": {
    "id": "8MqYJP1LjzGX"
   },
   "outputs": [],
   "source": [
    "df_complete.to_csv('last_samples_complete_all_v2.csv')"
   ]
  },
  {
   "cell_type": "code",
   "execution_count": null,
   "metadata": {
    "id": "VMFdXn_MkKTE"
   },
   "outputs": [],
   "source": [
    "complete_pivot.to_csv('complete_pivot_v2.csv')"
   ]
  },
  {
   "cell_type": "code",
   "execution_count": null,
   "metadata": {
    "id": "crjYxqCrkjmC"
   },
   "outputs": [],
   "source": []
  }
 ],
 "metadata": {
  "colab": {
   "provenance": []
  },
  "kernelspec": {
   "display_name": "Python 3",
   "language": "python",
   "name": "python3"
  },
  "language_info": {
   "codemirror_mode": {
    "name": "ipython",
    "version": 3
   },
   "file_extension": ".py",
   "mimetype": "text/x-python",
   "name": "python",
   "nbconvert_exporter": "python",
   "pygments_lexer": "ipython3",
   "version": "3.8.11"
  }
 },
 "nbformat": 4,
 "nbformat_minor": 1
}
