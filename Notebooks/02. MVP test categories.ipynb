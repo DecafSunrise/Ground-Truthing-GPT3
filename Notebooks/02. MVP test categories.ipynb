{
 "cells": [
  {
   "cell_type": "markdown",
   "metadata": {},
   "source": [
    "# \"Minimum Viable Product\" Exploration of Concept Viability"
   ]
  },
  {
   "cell_type": "markdown",
   "metadata": {},
   "source": [
    "### Import packages, set common variables"
   ]
  },
  {
   "cell_type": "code",
   "execution_count": 17,
   "metadata": {
    "colab": {
     "base_uri": "https://localhost:8080/"
    },
    "id": "IGHewpqiffml",
    "outputId": "ac8c7a16-3ff0-4d1a-879f-10b7a55056cd"
   },
   "outputs": [],
   "source": [
    "from wikidata.client import Client\n",
    "import os\n",
    "import openai\n",
    "import pandas as pd\n",
    "import re\n",
    "import random\n",
    "\n",
    "from dotenv import load_dotenv\n",
    "from dotenv import dotenv_values\n",
    "load_dotenv()"
   ]
  },
  {
   "cell_type": "code",
   "execution_count": 19,
   "metadata": {
    "id": "JVpD4nuJfjIs"
   },
   "outputs": [],
   "source": [
    "config = dotenv_values(\".env\")\n",
    "\n",
    "openai.api_key= config['openai.api_key']"
   ]
  },
  {
   "cell_type": "code",
   "execution_count": 21,
   "metadata": {
    "id": "BY7qXsm6giA3"
   },
   "outputs": [],
   "source": [
    "client = Client()"
   ]
  },
  {
   "cell_type": "markdown",
   "metadata": {},
   "source": [
    "### Define Functions"
   ]
  },
  {
   "cell_type": "code",
   "execution_count": null,
   "metadata": {
    "id": "kFdZuBs_2pfP"
   },
   "outputs": [],
   "source": [
    "def get_correct_article(text):\n",
    "    ## simple logic to make articles match their targets\n",
    "    if text[0].lower() in ['a', 'e', 'i', 'o', 'u']:\n",
    "        article_variant = \"an\"\n",
    "    else:\n",
    "        article_variant = \"a\"\n",
    "    \n",
    "    return article_variant\n",
    "\n",
    "def setSubsetQuestion(index):\n",
    "  \n",
    "    article_variant = get_correct_article(df.loc[index, 'classLabel.value'])\n",
    "\n",
    "    ## should we inject quotes around the itemLabel.value \n",
    "    query_basic = f\"True or false: {df.loc[index, 'itemLabel.value']} is {article_variant} {df.loc[index, 'classLabel.value']}\"\n",
    "    df.loc[index, 'set_subset_q'] = query_basic\n",
    "    print(query_basic)\n",
    "    response_basic = openai.Completion.create(model=\"text-davinci-003\", prompt=query_basic, temperature=0, max_tokens=1000)\n",
    "    df.loc[index, 'set_subset_a'] = response_basic['choices'][0]['text']\n",
    "    print(response_basic['choices'][0]['text'])\n",
    "\n",
    "    return\n",
    "\n",
    "def falsePresuppositionQuestion(random_index):\n",
    "\n",
    "    article_variant = get_correct_article(df.loc[index, 'classLabel.value'])\n",
    "\n",
    "    query_false_presupposition = f\"Why isn't {df.loc[index, 'itemLabel.value']} {article_variant} {df.loc[index, 'classLabel.value']}?\"\n",
    "    df.loc[index, 'false_presup_q'] = query_false_presupposition\n",
    "    print(query_false_presupposition)\n",
    "    response_false_presupposition = openai.Completion.create(model=\"text-davinci-003\", prompt=query_false_presupposition, temperature=0, max_tokens=1000)\n",
    "    df.loc[index, 'false_presup_a'] = response_false_presupposition['choices'][0]['text']\n",
    "    print(response_false_presupposition['choices'][0]['text'])\n",
    "\n",
    "    return"
   ]
  },
  {
   "cell_type": "markdown",
   "metadata": {},
   "source": [
    "### Read in dataset randomly sampled from Wikidata"
   ]
  },
  {
   "cell_type": "code",
   "execution_count": null,
   "metadata": {
    "colab": {
     "base_uri": "https://localhost:8080/",
     "height": 323
    },
    "id": "D4L8oaU1VrZI",
    "outputId": "3f45a1c6-9830-4eaf-cc2a-4bdc418bc18c"
   },
   "outputs": [],
   "source": [
    "df = pd.read_csv('wikidata_sample_df.csv', index_col=0)\n",
    "\n",
    "df.reset_index(drop = True, inplace = True)"
   ]
  },
  {
   "cell_type": "code",
   "execution_count": null,
   "metadata": {
    "colab": {
     "base_uri": "https://localhost:8080/",
     "height": 305
    },
    "id": "S_F_Lh2Hc7Ko",
    "outputId": "48e8b857-5a92-4014-f41a-276990d22a7b"
   },
   "outputs": [
    {
     "data": {
      "text/html": [
       "\n",
       "  <div id=\"df-0532bd86-fe5e-4a07-bf5a-9dbfa79ec4b9\">\n",
       "    <div class=\"colab-df-container\">\n",
       "      <div>\n",
       "<style scoped>\n",
       "    .dataframe tbody tr th:only-of-type {\n",
       "        vertical-align: middle;\n",
       "    }\n",
       "\n",
       "    .dataframe tbody tr th {\n",
       "        vertical-align: top;\n",
       "    }\n",
       "\n",
       "    .dataframe thead th {\n",
       "        text-align: right;\n",
       "    }\n",
       "</style>\n",
       "<table border=\"1\" class=\"dataframe\">\n",
       "  <thead>\n",
       "    <tr style=\"text-align: right;\">\n",
       "      <th></th>\n",
       "      <th>item.type</th>\n",
       "      <th>item.value</th>\n",
       "      <th>class.type</th>\n",
       "      <th>class.value</th>\n",
       "      <th>itemLabel.xml:lang</th>\n",
       "      <th>itemLabel.type</th>\n",
       "      <th>itemLabel.value</th>\n",
       "      <th>classLabel.xml:lang</th>\n",
       "      <th>classLabel.type</th>\n",
       "      <th>classLabel.value</th>\n",
       "      <th>subclass.type</th>\n",
       "      <th>subclass.value</th>\n",
       "      <th>subclassLabel.xml:lang</th>\n",
       "      <th>subclassLabel.type</th>\n",
       "      <th>subclassLabel.value</th>\n",
       "    </tr>\n",
       "  </thead>\n",
       "  <tbody>\n",
       "    <tr>\n",
       "      <th>0</th>\n",
       "      <td>uri</td>\n",
       "      <td>http://www.wikidata.org/entity/Q27143</td>\n",
       "      <td>uri</td>\n",
       "      <td>http://www.wikidata.org/entity/Q786820</td>\n",
       "      <td>en</td>\n",
       "      <td>literal</td>\n",
       "      <td>Avia</td>\n",
       "      <td>en</td>\n",
       "      <td>literal</td>\n",
       "      <td>automobile manufacturer</td>\n",
       "      <td>NaN</td>\n",
       "      <td>NaN</td>\n",
       "      <td>NaN</td>\n",
       "      <td>NaN</td>\n",
       "      <td>NaN</td>\n",
       "    </tr>\n",
       "    <tr>\n",
       "      <th>1</th>\n",
       "      <td>uri</td>\n",
       "      <td>http://www.wikidata.org/entity/Q27143</td>\n",
       "      <td>uri</td>\n",
       "      <td>http://www.wikidata.org/entity/Q936518</td>\n",
       "      <td>en</td>\n",
       "      <td>literal</td>\n",
       "      <td>Avia</td>\n",
       "      <td>en</td>\n",
       "      <td>literal</td>\n",
       "      <td>aerospace manufacturer</td>\n",
       "      <td>NaN</td>\n",
       "      <td>NaN</td>\n",
       "      <td>NaN</td>\n",
       "      <td>NaN</td>\n",
       "      <td>NaN</td>\n",
       "    </tr>\n",
       "    <tr>\n",
       "      <th>2</th>\n",
       "      <td>uri</td>\n",
       "      <td>http://www.wikidata.org/entity/Q27143</td>\n",
       "      <td>uri</td>\n",
       "      <td>http://www.wikidata.org/entity/Q6881511</td>\n",
       "      <td>en</td>\n",
       "      <td>literal</td>\n",
       "      <td>Avia</td>\n",
       "      <td>en</td>\n",
       "      <td>literal</td>\n",
       "      <td>enterprise</td>\n",
       "      <td>NaN</td>\n",
       "      <td>NaN</td>\n",
       "      <td>NaN</td>\n",
       "      <td>NaN</td>\n",
       "      <td>NaN</td>\n",
       "    </tr>\n",
       "    <tr>\n",
       "      <th>3</th>\n",
       "      <td>uri</td>\n",
       "      <td>http://www.wikidata.org/entity/Q38441</td>\n",
       "      <td>uri</td>\n",
       "      <td>http://www.wikidata.org/entity/Q34038</td>\n",
       "      <td>en</td>\n",
       "      <td>literal</td>\n",
       "      <td>Steall Waterfall</td>\n",
       "      <td>en</td>\n",
       "      <td>literal</td>\n",
       "      <td>waterfall</td>\n",
       "      <td>NaN</td>\n",
       "      <td>NaN</td>\n",
       "      <td>NaN</td>\n",
       "      <td>NaN</td>\n",
       "      <td>NaN</td>\n",
       "    </tr>\n",
       "    <tr>\n",
       "      <th>4</th>\n",
       "      <td>uri</td>\n",
       "      <td>http://www.wikidata.org/entity/Q42816</td>\n",
       "      <td>uri</td>\n",
       "      <td>http://www.wikidata.org/entity/Q747074</td>\n",
       "      <td>en</td>\n",
       "      <td>literal</td>\n",
       "      <td>Corte de' Frati</td>\n",
       "      <td>en</td>\n",
       "      <td>literal</td>\n",
       "      <td>comune of Italy</td>\n",
       "      <td>NaN</td>\n",
       "      <td>NaN</td>\n",
       "      <td>NaN</td>\n",
       "      <td>NaN</td>\n",
       "      <td>NaN</td>\n",
       "    </tr>\n",
       "  </tbody>\n",
       "</table>\n",
       "</div>\n",
       "      <button class=\"colab-df-convert\" onclick=\"convertToInteractive('df-0532bd86-fe5e-4a07-bf5a-9dbfa79ec4b9')\"\n",
       "              title=\"Convert this dataframe to an interactive table.\"\n",
       "              style=\"display:none;\">\n",
       "        \n",
       "  <svg xmlns=\"http://www.w3.org/2000/svg\" height=\"24px\"viewBox=\"0 0 24 24\"\n",
       "       width=\"24px\">\n",
       "    <path d=\"M0 0h24v24H0V0z\" fill=\"none\"/>\n",
       "    <path d=\"M18.56 5.44l.94 2.06.94-2.06 2.06-.94-2.06-.94-.94-2.06-.94 2.06-2.06.94zm-11 1L8.5 8.5l.94-2.06 2.06-.94-2.06-.94L8.5 2.5l-.94 2.06-2.06.94zm10 10l.94 2.06.94-2.06 2.06-.94-2.06-.94-.94-2.06-.94 2.06-2.06.94z\"/><path d=\"M17.41 7.96l-1.37-1.37c-.4-.4-.92-.59-1.43-.59-.52 0-1.04.2-1.43.59L10.3 9.45l-7.72 7.72c-.78.78-.78 2.05 0 2.83L4 21.41c.39.39.9.59 1.41.59.51 0 1.02-.2 1.41-.59l7.78-7.78 2.81-2.81c.8-.78.8-2.07 0-2.86zM5.41 20L4 18.59l7.72-7.72 1.47 1.35L5.41 20z\"/>\n",
       "  </svg>\n",
       "      </button>\n",
       "      \n",
       "  <style>\n",
       "    .colab-df-container {\n",
       "      display:flex;\n",
       "      flex-wrap:wrap;\n",
       "      gap: 12px;\n",
       "    }\n",
       "\n",
       "    .colab-df-convert {\n",
       "      background-color: #E8F0FE;\n",
       "      border: none;\n",
       "      border-radius: 50%;\n",
       "      cursor: pointer;\n",
       "      display: none;\n",
       "      fill: #1967D2;\n",
       "      height: 32px;\n",
       "      padding: 0 0 0 0;\n",
       "      width: 32px;\n",
       "    }\n",
       "\n",
       "    .colab-df-convert:hover {\n",
       "      background-color: #E2EBFA;\n",
       "      box-shadow: 0px 1px 2px rgba(60, 64, 67, 0.3), 0px 1px 3px 1px rgba(60, 64, 67, 0.15);\n",
       "      fill: #174EA6;\n",
       "    }\n",
       "\n",
       "    [theme=dark] .colab-df-convert {\n",
       "      background-color: #3B4455;\n",
       "      fill: #D2E3FC;\n",
       "    }\n",
       "\n",
       "    [theme=dark] .colab-df-convert:hover {\n",
       "      background-color: #434B5C;\n",
       "      box-shadow: 0px 1px 3px 1px rgba(0, 0, 0, 0.15);\n",
       "      filter: drop-shadow(0px 1px 2px rgba(0, 0, 0, 0.3));\n",
       "      fill: #FFFFFF;\n",
       "    }\n",
       "  </style>\n",
       "\n",
       "      <script>\n",
       "        const buttonEl =\n",
       "          document.querySelector('#df-0532bd86-fe5e-4a07-bf5a-9dbfa79ec4b9 button.colab-df-convert');\n",
       "        buttonEl.style.display =\n",
       "          google.colab.kernel.accessAllowed ? 'block' : 'none';\n",
       "\n",
       "        async function convertToInteractive(key) {\n",
       "          const element = document.querySelector('#df-0532bd86-fe5e-4a07-bf5a-9dbfa79ec4b9');\n",
       "          const dataTable =\n",
       "            await google.colab.kernel.invokeFunction('convertToInteractive',\n",
       "                                                     [key], {});\n",
       "          if (!dataTable) return;\n",
       "\n",
       "          const docLinkHtml = 'Like what you see? Visit the ' +\n",
       "            '<a target=\"_blank\" href=https://colab.research.google.com/notebooks/data_table.ipynb>data table notebook</a>'\n",
       "            + ' to learn more about interactive tables.';\n",
       "          element.innerHTML = '';\n",
       "          dataTable['output_type'] = 'display_data';\n",
       "          await google.colab.output.renderOutput(dataTable, element);\n",
       "          const docLink = document.createElement('div');\n",
       "          docLink.innerHTML = docLinkHtml;\n",
       "          element.appendChild(docLink);\n",
       "        }\n",
       "      </script>\n",
       "    </div>\n",
       "  </div>\n",
       "  "
      ],
      "text/plain": [
       "  item.type                             item.value class.type  \\\n",
       "0       uri  http://www.wikidata.org/entity/Q27143        uri   \n",
       "1       uri  http://www.wikidata.org/entity/Q27143        uri   \n",
       "2       uri  http://www.wikidata.org/entity/Q27143        uri   \n",
       "3       uri  http://www.wikidata.org/entity/Q38441        uri   \n",
       "4       uri  http://www.wikidata.org/entity/Q42816        uri   \n",
       "\n",
       "                               class.value itemLabel.xml:lang itemLabel.type  \\\n",
       "0   http://www.wikidata.org/entity/Q786820                 en        literal   \n",
       "1   http://www.wikidata.org/entity/Q936518                 en        literal   \n",
       "2  http://www.wikidata.org/entity/Q6881511                 en        literal   \n",
       "3    http://www.wikidata.org/entity/Q34038                 en        literal   \n",
       "4   http://www.wikidata.org/entity/Q747074                 en        literal   \n",
       "\n",
       "    itemLabel.value classLabel.xml:lang classLabel.type  \\\n",
       "0              Avia                  en         literal   \n",
       "1              Avia                  en         literal   \n",
       "2              Avia                  en         literal   \n",
       "3  Steall Waterfall                  en         literal   \n",
       "4   Corte de' Frati                  en         literal   \n",
       "\n",
       "          classLabel.value  subclass.type  subclass.value  \\\n",
       "0  automobile manufacturer            NaN             NaN   \n",
       "1   aerospace manufacturer            NaN             NaN   \n",
       "2               enterprise            NaN             NaN   \n",
       "3                waterfall            NaN             NaN   \n",
       "4          comune of Italy            NaN             NaN   \n",
       "\n",
       "   subclassLabel.xml:lang  subclassLabel.type  subclassLabel.value  \n",
       "0                     NaN                 NaN                  NaN  \n",
       "1                     NaN                 NaN                  NaN  \n",
       "2                     NaN                 NaN                  NaN  \n",
       "3                     NaN                 NaN                  NaN  \n",
       "4                     NaN                 NaN                  NaN  "
      ]
     },
     "execution_count": 10,
     "metadata": {},
     "output_type": "execute_result"
    }
   ],
   "source": [
    "df.head()"
   ]
  },
  {
   "cell_type": "code",
   "execution_count": null,
   "metadata": {
    "id": "8gtfVVp6aLLC"
   },
   "outputs": [],
   "source": [
    "### Define new columns that will be filled in later stages\n",
    "df['set_subset_q'] = ''\n",
    "df['set_subset_a'] = ''\n",
    "df['false_presup_q'] = ''\n",
    "df['false_presup_a'] = ''"
   ]
  },
  {
   "cell_type": "markdown",
   "metadata": {
    "id": "MXzj-zzITKXa"
   },
   "source": [
    "### Test Run with Test Categories"
   ]
  },
  {
   "cell_type": "code",
   "execution_count": null,
   "metadata": {
    "colab": {
     "base_uri": "https://localhost:8080/"
    },
    "id": "Mc3zsnT-Wv_M",
    "outputId": "9a1c9580-35e8-4b17-d6c1-73dd8686baeb"
   },
   "outputs": [],
   "source": [
    "cats = ['human','album','village','film','river','asteroid','musical group','literary work','chemical compound']\n",
    "\n",
    "for cat in cats:\n",
    "\n",
    "    df_cat = df[df['classLabel.value']==cat].reset_index(drop=False)\n",
    "\n",
    "    for i in range(1):\n",
    "\n",
    "        random_index = random.randrange(df_cat.shape[0])\n",
    "        index = df_cat.loc[random_index, 'index']\n",
    "        print(index)\n",
    "        print(df.iloc[index])\n",
    "        setSubsetQuestion(index)\n",
    "        print(df.iloc[index])"
   ]
  },
  {
   "cell_type": "markdown",
   "metadata": {
    "id": "7hq4RKMHl_i1"
   },
   "source": [
    "### Concept proven, let's main-line this!"
   ]
  },
  {
   "cell_type": "code",
   "execution_count": null,
   "metadata": {},
   "outputs": [],
   "source": []
  }
 ],
 "metadata": {
  "colab": {
   "provenance": []
  },
  "kernelspec": {
   "display_name": "Python 3",
   "language": "python",
   "name": "python3"
  },
  "language_info": {
   "codemirror_mode": {
    "name": "ipython",
    "version": 3
   },
   "file_extension": ".py",
   "mimetype": "text/x-python",
   "name": "python",
   "nbconvert_exporter": "python",
   "pygments_lexer": "ipython3",
   "version": "3.8.11"
  }
 },
 "nbformat": 4,
 "nbformat_minor": 1
}
