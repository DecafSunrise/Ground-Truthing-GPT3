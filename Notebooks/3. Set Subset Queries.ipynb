{
 "cells": [
  {
   "cell_type": "markdown",
   "id": "c55e55c0",
   "metadata": {},
   "source": [
    "# Run Set/Subset queries"
   ]
  },
  {
   "cell_type": "markdown",
   "id": "3c3fff17",
   "metadata": {},
   "source": [
    "### Import packages"
   ]
  },
  {
   "cell_type": "code",
   "execution_count": 1,
   "id": "c5570320",
   "metadata": {},
   "outputs": [],
   "source": [
    "import openai\n",
    "from tqdm import tqdm\n",
    "tqdm.pandas()\n",
    "import pandas as pd\n",
    "from datetime import datetime\n",
    "import time\n",
    "\n",
    "from dotenv import load_dotenv\n",
    "\n",
    "load_dotenv()"
   ]
  },
  {
   "cell_type": "code",
   "execution_count": null,
   "id": "e2aa200a",
   "metadata": {},
   "outputs": [],
   "source": [
    "## Secrets management - Don't spill your API keys!\n",
    "openai.api_key = os.getenv('openai.api_key')"
   ]
  },
  {
   "cell_type": "markdown",
   "id": "085b963a",
   "metadata": {},
   "source": [
    "### Define Functions"
   ]
  },
  {
   "cell_type": "code",
   "execution_count": 10,
   "id": "1df1e0bb",
   "metadata": {},
   "outputs": [],
   "source": [
    "def get_correct_article(text):\n",
    "    ## simple logic to make articles match their targets\n",
    "    if text[0].lower() in ['a', 'e', 'i', 'o', 'u']:\n",
    "        article_variant = \"an\"\n",
    "    else:\n",
    "        article_variant = \"a\"\n",
    "    \n",
    "    return article_variant\n",
    "\n",
    "def ask_question(subset, superset):\n",
    "    time.sleep(1)\n",
    "    article_variant = get_correct_article(superset)\n",
    "    set_subset = f\"{subset} is {article_variant} {superset}?\"\n",
    "    boilerplate = f\"Answer True or False, then explain your rationale, and provide a numeric confidence score as a percentage out of 100: {set_subset}\"\n",
    "    response_basic = openai.Completion.create(model=\"text-davinci-003\", prompt=boilerplate, temperature=0, max_tokens=1000)\n",
    "    \n",
    "    return response_basic['choices'][0]['text']"
   ]
  },
  {
   "cell_type": "markdown",
   "id": "4bc58783",
   "metadata": {},
   "source": [
    "### Load dataset"
   ]
  },
  {
   "cell_type": "code",
   "execution_count": 4,
   "id": "86f27536",
   "metadata": {},
   "outputs": [],
   "source": [
    "# Load raw Wikidata dump, without category filters\n",
    "df = pd.read_csv(r\"wikidata_sample_df.csv\")\n",
    "\n",
    "# Snip off columns we don't care about/won't use\n",
    "df = df.drop(columns=['Unnamed: 0', 'class.type', 'item.type', 'itemLabel.xml:lang', 'itemLabel.type', 'classLabel.type','subclass.type', 'subclass.value', 'subclassLabel.xml:lang', 'subclassLabel.type', 'subclassLabel.value'])"
   ]
  },
  {
   "cell_type": "code",
   "execution_count": 6,
   "id": "99a5a68d",
   "metadata": {},
   "outputs": [],
   "source": [
    "# Specify which categories we'll do queries against\n",
    "cats = ['human','album','village','film','river', 'business','musical group','literary work','mountain','television series']\n",
    "df = df[df['classLabel.value'].isin(cats)]"
   ]
  },
  {
   "cell_type": "code",
   "execution_count": 8,
   "id": "d2ca5613",
   "metadata": {},
   "outputs": [
    {
     "data": {
      "text/plain": [
       "46463"
      ]
     },
     "execution_count": 8,
     "metadata": {},
     "output_type": "execute_result"
    }
   ],
   "source": [
    "# Check the characteristics of the resultant dataframe\n",
    "len(df)"
   ]
  },
  {
   "cell_type": "code",
   "execution_count": 9,
   "id": "ccdfaf28",
   "metadata": {},
   "outputs": [
    {
     "data": {
      "text/plain": [
       "human                35005\n",
       "album                 2514\n",
       "village               2072\n",
       "film                  1872\n",
       "river                 1195\n",
       "business              1104\n",
       "musical group          913\n",
       "literary work          825\n",
       "mountain               482\n",
       "television series      481\n",
       "Name: classLabel.value, dtype: int64"
      ]
     },
     "execution_count": 9,
     "metadata": {},
     "output_type": "execute_result"
    }
   ],
   "source": [
    "df['classLabel.value'].value_counts()"
   ]
  },
  {
   "cell_type": "markdown",
   "id": "0572e179",
   "metadata": {},
   "source": [
    "### Prep the dataframe for long-running queries\n",
    "Without paying for enhanced speed, OpenAI rate-limits you to one API call per second. Over 46k records, that's \n",
    "a significant amount of time, and we don't want to have to re-run it.  \n",
    "We used this technique to split the large dataframe (46k rows) into smaller dataframes of of 50 records each.\n",
    "This lets us run incremental queries without fear of dropping a large number of rows if there's a timeout or other error."
   ]
  },
  {
   "cell_type": "code",
   "execution_count": 20,
   "id": "8a7ca847",
   "metadata": {},
   "outputs": [],
   "source": [
    "df = df.sort_values(by='classLabel.value').reset_index(drop=True)"
   ]
  },
  {
   "cell_type": "code",
   "execution_count": 54,
   "id": "ae5d87a4",
   "metadata": {},
   "outputs": [],
   "source": [
    "## Not particularly readable, but this splits the dataframe into chunks of 50 rows each\n",
    "n = 50\n",
    "list_df = [unfinished_df[i:i+n] for i in range(0,len(unfinished_df),n)]"
   ]
  },
  {
   "cell_type": "code",
   "execution_count": 55,
   "id": "9674aa12",
   "metadata": {},
   "outputs": [
    {
     "data": {
      "text/plain": [
       "476"
      ]
     },
     "execution_count": 55,
     "metadata": {},
     "output_type": "execute_result"
    }
   ],
   "source": [
    "# Check how many sub-DFs we've generated\n",
    "len(list_df)"
   ]
  },
  {
   "cell_type": "markdown",
   "id": "870b14f1",
   "metadata": {},
   "source": [
    "### Run queries"
   ]
  },
  {
   "cell_type": "code",
   "execution_count": null,
   "id": "e0a7ce8d",
   "metadata": {},
   "outputs": [],
   "source": [
    "starttime = datetime.now()\n",
    "print(f\"Started at {starttime.strftime('%m/%d/%Y, %H:%M:%S')}\")\n",
    "\n",
    "for sub_df in tqdm(list_df):\n",
    "    sub_df['set subset response'] = sub_df.apply(lambda x: ask_question(x['itemLabel.value'], x['classLabel.value']), axis=1)\n",
    "    \n",
    "stoptime = datetime.now()\n",
    "print(f\"Finished at {stoptime.strftime('%m/%d/%Y, %H:%M:%S')}\")\n",
    "print(f\"Ran in {str(stoptime - starttime)}\")"
   ]
  },
  {
   "cell_type": "code",
   "execution_count": 36,
   "id": "a003e8fe",
   "metadata": {},
   "outputs": [],
   "source": [
    "# Re-join the output\n",
    "df = pd.concat(list_df)"
   ]
  },
  {
   "cell_type": "markdown",
   "id": "5c468b30",
   "metadata": {},
   "source": [
    "### Save results"
   ]
  },
  {
   "cell_type": "code",
   "execution_count": null,
   "id": "9c53aae4",
   "metadata": {},
   "outputs": [],
   "source": [
    "df.to_csv(\"set_subset_responses.csv\", index=False)"
   ]
  }
 ],
 "metadata": {
  "kernelspec": {
   "display_name": "Python 3",
   "language": "python",
   "name": "python3"
  },
  "language_info": {
   "codemirror_mode": {
    "name": "ipython",
    "version": 3
   },
   "file_extension": ".py",
   "mimetype": "text/x-python",
   "name": "python",
   "nbconvert_exporter": "python",
   "pygments_lexer": "ipython3",
   "version": "3.8.11"
  }
 },
 "nbformat": 4,
 "nbformat_minor": 5
}
